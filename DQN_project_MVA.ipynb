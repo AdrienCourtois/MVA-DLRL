{
  "nbformat": 4,
  "nbformat_minor": 0,
  "metadata": {
    "kernelspec": {
      "display_name": "Python 3",
      "language": "python",
      "name": "python3"
    },
    "language_info": {
      "codemirror_mode": {
        "name": "ipython",
        "version": 3
      },
      "file_extension": ".py",
      "mimetype": "text/x-python",
      "name": "python",
      "nbconvert_exporter": "python",
      "pygments_lexer": "ipython3",
      "version": "3.5.7"
    },
    "colab": {
      "name": "DQN_project_MVA.ipynb",
      "provenance": [],
      "collapsed_sections": []
    }
  },
  "cells": [
    {
      "cell_type": "markdown",
      "metadata": {
        "id": "vc4BZWJtjV84",
        "colab_type": "text"
      },
      "source": [
        "**You may need to install [OpenCV](https://pypi.python.org/pypi/opencv-python) and [scikit-video](http://www.scikit-video.org/stable/).**"
      ]
    },
    {
      "cell_type": "code",
      "metadata": {
        "id": "4g3i3jwxjV86",
        "colab_type": "code",
        "outputId": "fb665d19-df24-4c45-98aa-c6357c459742",
        "colab": {
          "base_uri": "https://localhost:8080/",
          "height": 131
        }
      },
      "source": [
        "!pip install sk-video\n",
        "import keras\n",
        "import numpy as np\n",
        "import io\n",
        "import base64\n",
        "from IPython.display import HTML\n",
        "import skvideo.io\n",
        "import cv2\n",
        "import json\n",
        "\n",
        "from keras.models import Sequential,model_from_json\n",
        "from keras.layers.core import Dense\n",
        "from keras.optimizers import sgd\n",
        "from keras.layers import Conv2D, MaxPooling2D, Activation, AveragePooling2D,Reshape,BatchNormalization, Flatten"
      ],
      "execution_count": 1,
      "outputs": [
        {
          "output_type": "stream",
          "text": [
            "Requirement already satisfied: sk-video in /usr/local/lib/python3.6/dist-packages (1.1.10)\n",
            "Requirement already satisfied: scipy in /usr/local/lib/python3.6/dist-packages (from sk-video) (1.4.1)\n",
            "Requirement already satisfied: numpy in /usr/local/lib/python3.6/dist-packages (from sk-video) (1.17.5)\n"
          ],
          "name": "stdout"
        },
        {
          "output_type": "stream",
          "text": [
            "Using TensorFlow backend.\n"
          ],
          "name": "stderr"
        },
        {
          "output_type": "display_data",
          "data": {
            "text/html": [
              "<p style=\"color: red;\">\n",
              "The default version of TensorFlow in Colab will soon switch to TensorFlow 2.x.<br>\n",
              "We recommend you <a href=\"https://www.tensorflow.org/guide/migrate\" target=\"_blank\">upgrade</a> now \n",
              "or ensure your notebook will continue to use TensorFlow 1.x via the <code>%tensorflow_version 1.x</code> magic:\n",
              "<a href=\"https://colab.research.google.com/notebooks/tensorflow_version.ipynb\" target=\"_blank\">more info</a>.</p>\n"
            ],
            "text/plain": [
              "<IPython.core.display.HTML object>"
            ]
          },
          "metadata": {
            "tags": []
          }
        }
      ]
    },
    {
      "cell_type": "markdown",
      "metadata": {
        "id": "HUzOtS5DjV89",
        "colab_type": "text"
      },
      "source": [
        "# MiniProject on Deep Reinforcement Learning"
      ]
    },
    {
      "cell_type": "markdown",
      "metadata": {
        "id": "zeFw9ER7jV8-",
        "colab_type": "text"
      },
      "source": [
        "__Notations__: $E_p$ is the expectation under probability $p$. Please justify each of your answer and widely comment your code."
      ]
    },
    {
      "cell_type": "markdown",
      "metadata": {
        "id": "Ajk2rbkvjV8_",
        "colab_type": "text"
      },
      "source": [
        "# Context"
      ]
    },
    {
      "cell_type": "markdown",
      "metadata": {
        "id": "WjmKaJ_7jV8_",
        "colab_type": "text"
      },
      "source": [
        "In a reinforcement learning algorithm, we modelize each step $t$ as an action $a_t$ obtained from a state $s_t$, i.e. $\\{(a_{t},s_{t})_{t\\leq T}\\}$ having the Markov property. We consider a discount factor $\\gamma \\in [0,1]$ that ensures convergence. The goal is to find among all the policies $\\pi$, one that maximizes the expected reward:\n",
        "\n",
        "\\begin{equation*}\n",
        "R(\\pi)=\\sum_{t\\leq T}E_{p^{\\pi}}[\\gamma^t r(s_{t},a_{t})] \\> ,\n",
        "\\end{equation*}\n",
        "\n",
        "where: \n",
        "\\begin{equation*}p^{\\pi}(a_{0},a_{1},s_{1},...,a_{T},s_{T})=p(a_{0})\\prod_{t=1}^{T}\\pi(a_{t}|s_{t})p(s_{t+1}|s_{t},a_{t}) \\> .\n",
        "\\end{equation*}\n",
        "\n",
        "We note the $Q$-function:\n",
        "\n",
        "\\begin{equation*}Q^\\pi(s,a)=E_{p^{\\pi}}[\\sum_{t\\leq T}\\gamma^{t}r(s_{t},a_{t})|s_{0}=s,a_{0}=a] \\> .\n",
        "\\end{equation*}\n",
        "\n",
        "Thus, the optimal Q function is:\n",
        "\\begin{equation*}\n",
        "Q^*(s,a)=\\max_{\\pi}Q^\\pi(s,a) \\> .\n",
        "\\end{equation*}\n",
        "\n",
        "In this project, we will apply the deep reinforcement learning techniques to a simple game: an agent will have to learn from scratch a policy that will permit it maximizing a reward."
      ]
    },
    {
      "cell_type": "markdown",
      "metadata": {
        "id": "qOFq19yqjV9A",
        "colab_type": "text"
      },
      "source": [
        "## The environment, the agent and the game"
      ]
    },
    {
      "cell_type": "markdown",
      "metadata": {
        "id": "W2j-vnAjjV9B",
        "colab_type": "text"
      },
      "source": [
        "### The environment"
      ]
    },
    {
      "cell_type": "markdown",
      "metadata": {
        "id": "pIC9ORAVjV9C",
        "colab_type": "text"
      },
      "source": [
        "```Environment``` is an abstract class that represents the states, rewards, and actions to obtain the new state."
      ]
    },
    {
      "cell_type": "code",
      "metadata": {
        "id": "o4T6vKjVjV9D",
        "colab_type": "code",
        "colab": {}
      },
      "source": [
        "class Environment(object):\n",
        "    def __init__(self):\n",
        "        pass\n",
        "\n",
        "    def act(self, act):\n",
        "        \"\"\"\n",
        "        One can act on the environment and obtain its reaction:\n",
        "        - the new state\n",
        "        - the reward of the new state\n",
        "        - should we continue the game?\n",
        "\n",
        "        :return: state, reward, game_over\n",
        "        \"\"\"\n",
        "        pass\n",
        "\n",
        "\n",
        "    def reset(self):\n",
        "        \"\"\"\n",
        "        Reinitialize the environment to a random state and returns\n",
        "        the original state\n",
        "\n",
        "        :return: state\n",
        "        \"\"\"\n",
        "        pass\n",
        "    \n",
        "    def draw(self):\n",
        "        \"\"\"\n",
        "        Visualize in the console or graphically the current state\n",
        "        \"\"\"\n",
        "        pass"
      ],
      "execution_count": 0,
      "outputs": []
    },
    {
      "cell_type": "markdown",
      "metadata": {
        "id": "3Qg-Dc0kjV9F",
        "colab_type": "text"
      },
      "source": [
        "The method ```act``` allows to act on the environment at a given state $s_t$ (stored internally), via action $a_t$. The method will return the new state $s_{t+1}$, the reward $r(s_{t},a_{t})$ and determines if $t\\leq T$ (*game_over*).\n",
        "\n",
        "The method ```reset``` simply reinitializes the environment to a random state $s_0$.\n",
        "\n",
        "The method ```draw``` displays the current state $s_t$ (this is useful to check the behavior of the Agent).\n",
        "\n",
        "We modelize $s_t$ as a tensor, while $a_t$ is an integer."
      ]
    },
    {
      "cell_type": "markdown",
      "metadata": {
        "id": "B_TpmVGDjV9G",
        "colab_type": "text"
      },
      "source": [
        "### The Agent"
      ]
    },
    {
      "cell_type": "markdown",
      "metadata": {
        "id": "tM8BIsMDjV9H",
        "colab_type": "text"
      },
      "source": [
        "The goal of the ```Agent``` is to interact with the ```Environment``` by proposing actions $a_t$ obtained from a given state $s_t$ to attempt to maximize its __reward__ $r(s_t,a_t)$. We propose the following abstract class:"
      ]
    },
    {
      "cell_type": "code",
      "metadata": {
        "id": "h0-TO-KPjV9I",
        "colab_type": "code",
        "colab": {}
      },
      "source": [
        "class Agent(object):\n",
        "    def __init__(self, epsilon=0.1, n_action=4):\n",
        "        self.epsilon = epsilon\n",
        "        self.n_action = n_action\n",
        "    \n",
        "    def set_epsilon(self,e):\n",
        "        self.epsilon = e\n",
        "\n",
        "    def act(self,s,train=True):\n",
        "        \"\"\" This function should return the next action to do:\n",
        "        an integer between 0 and 4 (not included) with a random exploration of epsilon\"\"\"\n",
        "        if train:\n",
        "            if np.random.rand() <= self.epsilon:\n",
        "                a = np.random.randint(0, self.n_action, size=1)[0]\n",
        "            else:\n",
        "                a = self.learned_act(s)\n",
        "        else: # in some cases, this can improve the performance.. remove it if poor performances\n",
        "            a = self.learned_act(s)\n",
        "\n",
        "        return a\n",
        "\n",
        "    def learned_act(self,s):\n",
        "        \"\"\" Act via the policy of the agent, from a given state s\n",
        "        it proposes an action a\"\"\"\n",
        "        pass\n",
        "\n",
        "    def reinforce(self, s, n_s, a, r, game_over_):\n",
        "        \"\"\" This function is the core of the learning algorithm. \n",
        "        It takes as an input the current state s_, the next state n_s_\n",
        "        the action a_ used to move from s_ to n_s_ and the reward r_.\n",
        "        \n",
        "        Its goal is to learn a policy.\n",
        "        \"\"\"\n",
        "        pass\n",
        "\n",
        "    def save(self):\n",
        "        \"\"\" This function returns basic stats if applicable: the\n",
        "        loss and/or the model\"\"\"\n",
        "        pass\n",
        "\n",
        "    def load(self):\n",
        "        \"\"\" This function allows to restore a model\"\"\"\n",
        "        pass"
      ],
      "execution_count": 0,
      "outputs": []
    },
    {
      "cell_type": "markdown",
      "metadata": {
        "id": "sGyrsAwnjV9K",
        "colab_type": "text"
      },
      "source": [
        "***\n",
        "__Question 1__:\n",
        "Explain the function act. Why is ```epsilon``` essential?"
      ]
    },
    {
      "cell_type": "markdown",
      "metadata": {
        "id": "kjCQIUdujV9L",
        "colab_type": "text"
      },
      "source": [
        "There is an exploration-exploitation trade-off, as in every RL strategy. If one does not use ```epsilon```, one would only focus on the transitions ```(state, action)``` that yields the best result at a time ```t```, and would never explore. It could for instance not notice there is even better transitions, because it would never explore them."
      ]
    },
    {
      "cell_type": "markdown",
      "metadata": {
        "id": "qiqkMe7_jV9M",
        "colab_type": "text"
      },
      "source": [
        "***\n",
        "### The Game"
      ]
    },
    {
      "cell_type": "markdown",
      "metadata": {
        "id": "iPUI0CdJjV9N",
        "colab_type": "text"
      },
      "source": [
        "The ```Agent``` and the ```Environment``` work in an interlaced way as in the following (take some time to understand this code as it is the core of the project)\n",
        "\n",
        "```python\n",
        "\n",
        "epoch = 300\n",
        "env = Environment()\n",
        "agent = Agent()\n",
        "\n",
        "\n",
        "# Number of won games\n",
        "score = 0\n",
        "loss = 0\n",
        "\n",
        "\n",
        "for e in range(epoch):\n",
        "    # At each epoch, we restart to a fresh game and get the initial state\n",
        "    state = env.reset()\n",
        "    # This assumes that the games will end\n",
        "    game_over = False\n",
        "\n",
        "    win = 0\n",
        "    lose = 0\n",
        "    \n",
        "    while not game_over:\n",
        "        # The agent performs an action\n",
        "        action = agent.act(state)\n",
        "\n",
        "        # Apply an action to the environment, get the next state, the reward\n",
        "        # and if the games end\n",
        "        prev_state = state\n",
        "        state, reward, game_over = env.act(action)\n",
        "\n",
        "        # Update the counters\n",
        "        if reward > 0:\n",
        "            win = win + reward\n",
        "        if reward < 0:\n",
        "            lose = lose -reward\n",
        "\n",
        "        # Apply the reinforcement strategy\n",
        "        loss = agent.reinforce(prev_state, state,  action, reward, game_over)\n",
        "\n",
        "    # Save as a mp4\n",
        "    if e % 10 == 0:\n",
        "        env.draw(e)\n",
        "\n",
        "    # Update stats\n",
        "    score += win-lose\n",
        "\n",
        "    print(\"Epoch {:03d}/{:03d} | Loss {:.4f} | Win/lose count {}/{} ({})\"\n",
        "          .format(e, epoch, loss, win, lose, win-lose))\n",
        "    agent.save()\n",
        "```"
      ]
    },
    {
      "cell_type": "markdown",
      "metadata": {
        "id": "22rqCLehjV9N",
        "colab_type": "text"
      },
      "source": [
        "# The game, *eat cheese*"
      ]
    },
    {
      "cell_type": "markdown",
      "metadata": {
        "id": "AoLyWm-PjV9O",
        "colab_type": "text"
      },
      "source": [
        "A rat runs on an island and tries to eat as much as possible. The island is subdivided into $N\\times N$ cells, in which there are cheese (+0.5) and poisonous cells (-1). The rat has a visibility of 2 cells (thus it can see $5^2$ cells). The rat is given a time $T$ to accumulate as much food as possible. It can perform 4 actions: going up, down, left, right. \n",
        "\n",
        "The goal is to code an agent to solve this task that will learn by trial and error. We propose the following environment:"
      ]
    },
    {
      "cell_type": "code",
      "metadata": {
        "id": "hckeirOtjV9P",
        "colab_type": "code",
        "colab": {}
      },
      "source": [
        "class Environment(object):\n",
        "    def __init__(self, grid_size=10, max_time=500, temperature=0.1):\n",
        "        grid_size = grid_size+4\n",
        "        self.grid_size = grid_size\n",
        "        self.max_time = max_time\n",
        "        self.temperature = temperature\n",
        "\n",
        "        #board on which one plays\n",
        "        self.board = np.zeros((grid_size,grid_size))\n",
        "        self.position = np.zeros((grid_size,grid_size))\n",
        "\n",
        "        # coordinate of the cat\n",
        "        self.x = 0\n",
        "        self.y = 1\n",
        "\n",
        "        # self time\n",
        "        self.t = 0\n",
        "\n",
        "        self.scale=16\n",
        "\n",
        "        self.to_draw = np.zeros((max_time+2, grid_size*self.scale, grid_size*self.scale, 3))\n",
        "\n",
        "\n",
        "    def draw(self,e):\n",
        "        skvideo.io.vwrite(str(e) + '.mp4', self.to_draw)\n",
        "\n",
        "    def get_frame(self,t):\n",
        "        b = np.zeros((self.grid_size,self.grid_size,3)) + 128\n",
        "        b[self.board > 0,0] = 256\n",
        "        b[self.board < 0,2] = 256\n",
        "        b[self.x,self.y,:] = 256\n",
        "        b[-2:,:,:] = 0\n",
        "        b[:,-2:,:] = 0\n",
        "        b[:2,:,:] = 0\n",
        "        b[:,:2,:] = 0\n",
        "        \n",
        "        b = cv2.resize(b, None, fx=self.scale, fy=self.scale, interpolation=cv2.INTER_NEAREST)\n",
        "\n",
        "        self.to_draw[t,:,:,:] = b\n",
        "\n",
        "\n",
        "    def act(self, action):\n",
        "        \"\"\"This function returns the new state, reward and decides if the\n",
        "        game ends.\"\"\"\n",
        "\n",
        "        self.get_frame(int(self.t))\n",
        "\n",
        "        self.position = np.zeros((self.grid_size, self.grid_size))\n",
        "\n",
        "        self.position[0:2,:] = -1\n",
        "        self.position[:,0:2] = -1\n",
        "        self.position[-2:,:] = -1\n",
        "        self.position[-2:,:] = -1\n",
        "\n",
        "        self.position[self.x, self.y] = 1\n",
        "\n",
        "        if action == 0:\n",
        "            if self.x == self.grid_size-3:\n",
        "                self.x = self.x-1\n",
        "            else:\n",
        "                self.x = self.x + 1\n",
        "        elif action == 1:\n",
        "            if self.x == 2:\n",
        "                self.x = self.x+1\n",
        "            else:\n",
        "                self.x = self.x-1\n",
        "        elif action == 2:\n",
        "            if self.y == self.grid_size-3:\n",
        "                self.y = self.y-1\n",
        "            else:\n",
        "                self.y = self.y+1\n",
        "        elif action == 3:\n",
        "            if self.y == 2:\n",
        "                self.y = self.y+1\n",
        "            else:\n",
        "                self.y = self.y-1\n",
        "        else:\n",
        "            raise RuntimeError('Error: action not recognized')\n",
        "\n",
        "        self.t = self.t + 1\n",
        "        reward = self.board[self.x, self.y]\n",
        "        self.board[self.x, self.y] = 0\n",
        "        game_over = self.t > self.max_time\n",
        "        state = np.concatenate((self.board.reshape(self.grid_size, self.grid_size,1),\n",
        "                        self.position.reshape(self.grid_size, self.grid_size,1)),axis=2)\n",
        "        state = state[self.x-2:self.x+3,self.y-2:self.y+3,:]\n",
        "\n",
        "        return state, reward, game_over\n",
        "\n",
        "    def reset(self):\n",
        "        \"\"\"This function resets the game and returns the initial state\"\"\"\n",
        "\n",
        "        self.x = np.random.randint(3, self.grid_size-3, size=1)[0]\n",
        "        self.y = np.random.randint(3, self.grid_size-3, size=1)[0]\n",
        "\n",
        "\n",
        "        bonus = 0.5*np.random.binomial(1,self.temperature,size=self.grid_size**2)\n",
        "        bonus = bonus.reshape(self.grid_size,self.grid_size)\n",
        "\n",
        "        malus = -1.0*np.random.binomial(1,self.temperature,size=self.grid_size**2)\n",
        "        malus = malus.reshape(self.grid_size, self.grid_size)\n",
        "\n",
        "        self.to_draw = np.zeros((self.max_time+2, self.grid_size*self.scale, self.grid_size*self.scale, 3))\n",
        "\n",
        "\n",
        "        malus[bonus>0]=0\n",
        "\n",
        "        self.board = bonus + malus\n",
        "\n",
        "        self.position = np.zeros((self.grid_size, self.grid_size))\n",
        "        self.position[0:2,:] = -1\n",
        "        self.position[:,0:2] = -1\n",
        "        self.position[-2:,:] = -1\n",
        "        self.position[-2:,:] = -1\n",
        "        self.board[self.x,self.y] = 0\n",
        "        self.t = 0\n",
        "\n",
        "        state = np.concatenate((self.board.reshape(self.grid_size, self.grid_size,1),\n",
        "                        self.position.reshape(self.grid_size, self.grid_size,1)),axis=2)\n",
        "\n",
        "        state = state[self.x - 2:self.x + 3, self.y - 2:self.y + 3, :]\n",
        "        return state"
      ],
      "execution_count": 0,
      "outputs": []
    },
    {
      "cell_type": "markdown",
      "metadata": {
        "id": "qHs9IndijV9S",
        "colab_type": "text"
      },
      "source": [
        "The following elements are important because they correspond to the hyper parameters for this project:"
      ]
    },
    {
      "cell_type": "code",
      "metadata": {
        "id": "TJ4RvVJajV9T",
        "colab_type": "code",
        "colab": {}
      },
      "source": [
        "# parameters\n",
        "size = 13\n",
        "T=200\n",
        "temperature=0.3\n",
        "epochs_train=20 # set small when debugging\n",
        "epochs_test=20 # set small when debugging\n",
        "\n",
        "# display videos\n",
        "def display_videos(name):\n",
        "    video = io.open(name, 'r+b').read()\n",
        "    encoded = base64.b64encode(video)\n",
        "    return '''<video alt=\"test\" controls>\n",
        "                <source src=\"data:video/mp4;base64,{0}\" type=\"video/mp4\" />\n",
        "             </video>'''.format(encoded.decode('ascii'))"
      ],
      "execution_count": 0,
      "outputs": []
    },
    {
      "cell_type": "markdown",
      "metadata": {
        "id": "U0bc_xB-jV9X",
        "colab_type": "text"
      },
      "source": [
        "__Question 2__ Explain the use of the arrays ```position``` and ```board```."
      ]
    },
    {
      "cell_type": "markdown",
      "metadata": {
        "id": "sPHXWShdjV9Y",
        "colab_type": "text"
      },
      "source": [
        "The array ```board``` is a 2D array containing the reward on each cell. Hence, everytime the rat goes to a cell ```(i,j)```, the corresponding reward ```board[i,j]``` is returned and this value is set to zero because the rat has collected the cheese or the poison.\n",
        "\n",
        "\n",
        "The array ```position``` is a 2D array containing 1 if the rat is occupying the cell, -1 is the cell is a well and 0 otherwise."
      ]
    },
    {
      "cell_type": "markdown",
      "metadata": {
        "id": "7nKL6VTVjV9Y",
        "colab_type": "text"
      },
      "source": [
        "## Random Agent"
      ]
    },
    {
      "cell_type": "markdown",
      "metadata": {
        "id": "dy7P24WZjV9Z",
        "colab_type": "text"
      },
      "source": [
        "***\n",
        "__Question 3__ Implement a random Agent (only ```learned_act``` needs to be implemented):"
      ]
    },
    {
      "cell_type": "code",
      "metadata": {
        "id": "CarViWEHjV9a",
        "colab_type": "code",
        "colab": {}
      },
      "source": [
        "class RandomAgent(Agent):\n",
        "    def __init__(self):\n",
        "        super(RandomAgent, self).__init__()\n",
        "\n",
        "    def learned_act(self, s):\n",
        "        return np.random.randint(0, self.n_action)"
      ],
      "execution_count": 0,
      "outputs": []
    },
    {
      "cell_type": "markdown",
      "metadata": {
        "id": "ril5PYekjV9c",
        "colab_type": "text"
      },
      "source": [
        "***\n",
        "***\n",
        "__Question 4__ Visualize the game moves. You need to fill in the following function for the evaluation:"
      ]
    },
    {
      "cell_type": "code",
      "metadata": {
        "id": "STbIqEysjV9d",
        "colab_type": "code",
        "colab": {}
      },
      "source": [
        "def test(agent,env,epochs,prefix=''):\n",
        "    # Number of won games\n",
        "    score = 0\n",
        "        \n",
        "    for e in range(epochs):\n",
        "        \n",
        "        # We reset the env\n",
        "        state = env.reset()\n",
        "        win, lose = 0, 0\n",
        "        game_over = False\n",
        "\n",
        "        while not game_over:\n",
        "            # The agent choose an action\n",
        "            action = agent.act(state, train=False)\n",
        "\n",
        "            # We sample the reaction of the env\n",
        "            prev_state = state\n",
        "            state, reward, game_over = env.act(action)\n",
        "\n",
        "            # And we update the counts\n",
        "            if reward > 0:\n",
        "                win = win + reward\n",
        "            else:\n",
        "                lose = lose - reward\n",
        "        \n",
        "        # Save as a mp4\n",
        "        env.draw(prefix+str(e))\n",
        "\n",
        "        # Update stats\n",
        "        score = score + win-lose\n",
        "\n",
        "        print(\"Win/lose count {}/{}. Average score ({})\"\n",
        "              .format(win, lose, score/(1+e)))\n",
        "    print('Final score: '+str(score/epochs))"
      ],
      "execution_count": 0,
      "outputs": []
    },
    {
      "cell_type": "code",
      "metadata": {
        "id": "MrCSUFuPjV9f",
        "colab_type": "code",
        "outputId": "c1aa9373-e5fd-4b94-cd3c-84b46a897816",
        "colab": {
          "base_uri": "https://localhost:8080/",
          "height": 650
        }
      },
      "source": [
        "# Initialize the game\n",
        "env = Environment(grid_size=size, max_time=T,temperature=temperature)\n",
        "\n",
        "# Initialize the agent!\n",
        "agent = RandomAgent()\n",
        "\n",
        "test(agent,env,epochs_test,prefix='random')\n",
        "HTML(display_videos('random0.mp4'))"
      ],
      "execution_count": 8,
      "outputs": [
        {
          "output_type": "stream",
          "text": [
            "Win/lose count 9.5/13.0. Average score (-3.5)\n",
            "Win/lose count 12.5/19.0. Average score (-5.0)\n",
            "Win/lose count 11.0/13.0. Average score (-4.0)\n",
            "Win/lose count 9.5/16.0. Average score (-4.625)\n",
            "Win/lose count 6.5/16.0. Average score (-5.6)\n",
            "Win/lose count 7.0/20.0. Average score (-6.833333333333333)\n",
            "Win/lose count 6.5/9.0. Average score (-6.214285714285714)\n",
            "Win/lose count 9.0/19.0. Average score (-6.6875)\n",
            "Win/lose count 12.0/23.0. Average score (-7.166666666666667)\n",
            "Win/lose count 11.0/20.0. Average score (-7.35)\n",
            "Win/lose count 8.5/14.0. Average score (-7.181818181818182)\n",
            "Win/lose count 7.5/15.0. Average score (-7.208333333333333)\n",
            "Win/lose count 9.0/12.0. Average score (-6.884615384615385)\n",
            "Win/lose count 7.0/16.0. Average score (-7.035714285714286)\n",
            "Win/lose count 10.0/12.0. Average score (-6.7)\n",
            "Win/lose count 10.5/10.0. Average score (-6.25)\n",
            "Win/lose count 5.5/18.0. Average score (-6.617647058823529)\n",
            "Win/lose count 9.0/9.0. Average score (-6.25)\n",
            "Win/lose count 10.0/15.0. Average score (-6.184210526315789)\n",
            "Win/lose count 9.0/15.0. Average score (-6.175)\n",
            "Final score: -6.175\n"
          ],
          "name": "stdout"
        },
        {
          "output_type": "execute_result",
          "data": {
            "text/html": [
              "<video alt=\"test\" controls>\n",
              "                <source src=\"data:video/mp4;base64,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\" type=\"video/mp4\" />\n",
              "             </video>"
            ],
            "text/plain": [
              "<IPython.core.display.HTML object>"
            ]
          },
          "metadata": {
            "tags": []
          },
          "execution_count": 8
        }
      ]
    },
    {
      "cell_type": "markdown",
      "metadata": {
        "id": "v_1qQn4KjV9i",
        "colab_type": "text"
      },
      "source": [
        "***\n",
        "## DQN"
      ]
    },
    {
      "cell_type": "markdown",
      "metadata": {
        "id": "lHXyrguqjV9i",
        "colab_type": "text"
      },
      "source": [
        "Let us assume here that $T=\\infty$.\n",
        "\n",
        "***\n",
        "__Question 5__ Let $\\pi$ be a policy, show that:\n",
        "\n",
        "\\begin{equation*}\n",
        "Q^{\\pi}(s,a)=E_{(s',a')\\sim p^{\\pi}(.|s,a)}[r(s,a)+\\gamma Q^{\\pi}(s',a')]\n",
        "\\end{equation*}\n",
        "\n",
        "Then, show that for the optimal policy $\\pi^*$ (we assume its existence), the following holds: \n",
        "\n",
        "\\begin{equation*}\n",
        "Q^{*}(s,a)=E_{s'\\sim p(.|s,a)}[r(s,a)+\\gamma\\max_{a'}Q^{*}(s',a')].\n",
        "\\end{equation*}\n",
        "Finally, deduce that a plausible objective is:\n",
        "\n",
        "\\begin{equation*}\n",
        "\\mathcal{L}(\\theta)=E_{s' \\sim \\pi^*(.|s,a)}\\Vert r+\\gamma\\max_{a'}Q(s',a',\\theta)-Q(s,a,\\theta)\\Vert^{2}.\n",
        "\\end{equation*}\n",
        "\n",
        "\n"
      ]
    },
    {
      "cell_type": "markdown",
      "metadata": {
        "colab_type": "text",
        "id": "DN2HEkOByfzs"
      },
      "source": [
        "<hr>\n",
        "\n",
        "**Demonstration 1**\n",
        "\n",
        "\\begin{align*}\n",
        "    Q^\\pi(s,a) &= \\mathbb{E}_{p^{\\pi}}\\left[\\sum_{t=0}^{+\\infty}\\gamma^{t}r(s_{t},a_{t}) \\mid s_{0}=s,a_{0}=a\\right] \\\\\n",
        "    &= r(s,a) + \\mathbb{E}_{p^{\\pi}}\\left[ \\sum_{t=1}^{+\\infty} \\gamma^t r(s_t, a_t) \\mid s_0=s, a_0=a\\right] \\\\\n",
        "    &= r(s,a) + \\gamma \\sum_{s'} \\mathbb{E}_{p^{\\pi}} \\left[ \\sum_{t=1}^{+\\infty} \\gamma^{t-1} r(s_t, a_t) \\mid s_1 = s' \\right] p(s' \\mid s, a) \\tag{1} \\\\\n",
        "    &= r(s,a) + \\gamma \\sum_{s'} \\sum_{a'} \\mathbb{E}_{p^{\\pi}} \\left[ \\sum_{t=1}^{+\\infty} \\gamma^{t-1} r(s_t, a_t) \\mid s_1 = s', a_1 = a' \\right] \\pi(a' \\mid s') p(s' \\mid s,a) \\tag{2} \\\\\n",
        "    &= r(s,a) + \\gamma \\sum_{s'} \\sum_{a'} Q^{\\pi}(s',a') p^{\\pi}(s', a' \\mid s,a)\\tag{3} \\\\\n",
        "    &= \\mathbb{E}_{(s',a') \\sim p^{\\pi}(.,.\\mid s,a)}\\left[ r(s,a) + \\gamma Q^{\\pi}(s',a') \\right]\n",
        "\\end{align*}\n",
        "\n",
        "$(1)$ is because we do a conditioning on the next state and we use the Markov property. \\\\\n",
        "$(2)$ is because we do a conditioning on the next state, we use the definition of the conditioning to rewrite the probability, and we use the Markov property to remove the depency of the past states in $\\pi$. Note that actions are selected according to $\\pi$ when considering $Q^{\\pi}$, hence the term in $\\pi$. \\\\\n",
        "$(3)$ is because we can operate a change of time scale $t' = t-1$ and translate every indice. Starting from $0$ and doing an infinite amount of operations is the same as starting from $1$ and doing that same infinite amount of operations. It's just a question of indices and it won't change the final reward.\n",
        "\n",
        "<br>\n",
        "<hr>\n",
        "\n",
        "**Demonstration 2**\n",
        "\n",
        "Let us now introduce a few notations, for $f : \\mathcal{X} \\times \\mathcal{A} \\to \\mathbb{R}$ (where $\\mathcal{A}$ is the action space and $\\mathcal{X}$ is the state space), and for $(s,a) \\in \\mathcal{X} \\times \\mathcal{A}$:\n",
        "$$\\mathcal{T}^{\\pi} f(s,a) = r(s,a) + \\gamma \\sum_{s' \\in \\mathcal{X}} \\sum_{a' \\in \\mathcal{A}} f(s', a') \\pi(a' \\mid s') p(s' \\mid s,a)$$\n",
        "$$\\mathcal{T} f(s,a) = r(s,a) + \\gamma \\sum_{s' \\in \\mathcal{X}} \\max_{a' \\in \\mathcal{A}} f(s',a') p(s' \\mid s,a)$$\n",
        "\n",
        "**Part 1**\n",
        "\n",
        "Let's demonstrate $\\mathcal{T}^{\\pi} f \\leq \\mathcal{T} f$ **(4)**:\n",
        "\n",
        "\\begin{align*}\n",
        "    \\mathcal{T}^{\\pi}f(s,a) &= r(s,a) + \\gamma \\sum_{s'} \\sum_{a'} f(s',a') \\pi(a' \\mid s') p(s' \\mid s,a) \\\\\n",
        "    &\\leq r(s,a) + \\gamma \\sum_{s'} \\sum_{a'} \\max_{a''} f(s', a'') \\pi(a' \\mid s') p(s' \\mid s,a) \\\\\n",
        "    &\\leq r(s,a) + \\gamma \\sum_{s'} \\max_{a'} f(s',a') p(s' \\mid s,a) \\\\\n",
        "    &= \\mathcal{T} f(s,a)\n",
        "\\end{align*}\n",
        "By using the fact that $\\pi \\geq 0$ and $p \\geq 0$.\n",
        "\n",
        "**Part 2**\n",
        "\n",
        "Let us now show that for any policy $\\pi$, if $g \\leq f$, then $\\mathcal{T}^{\\pi} f \\leq \\mathcal{T}^{\\pi} g$ **(5)**:\n",
        "$$\\mathcal{T}^{\\pi} f = r(s,a) + \\gamma \\sum_{s'}\\sum_{a'} f(s',a') \\pi(a' \\mid s') p(s' \\mid s,a) \\leq r(s,a) + \\gamma \\sum_{s'}\\sum_{a'} g(s',a') \\pi(a' \\mid s') p(s' \\mid s,a) = \\mathcal{T}^{\\pi} g$$\n",
        "Because of the positiviy of $\\pi(a' \\mid s') p(s' \\mid s,a)$ for all $s,a,s',a'$.\n",
        "\n",
        "**Part 3**\n",
        "\n",
        "Finally, let us show that $\\left(\\mathcal{T}^{\\pi}\\right)^n f \\xrightarrow[n \\to +\\infty]{} Q^{\\pi}$ **(6)**:\n",
        "\n",
        "The operator $\\mathcal{T}^{\\pi}$ is contractive:\n",
        "\\begin{align*}\n",
        "    \\left|\\mathcal{T}^{\\pi} f(s,a) - \\mathcal{T}^{\\pi} g(s,a)\\right| &= \\gamma \\left|\\sum_{s'}\\sum_{a'} (f-g) \\pi(a' \\mid s') p(s' \\mid s,a) \\right| \\\\\n",
        "    &\\leq \\gamma \\left\\|f-g\\right\\|_{\\infty} \n",
        "\\end{align*}\n",
        "Hence:\n",
        "$$\\left\\|\\mathcal{T}^{\\pi} f - \\mathcal{T}^{\\pi} g\\right\\|_{\\infty} \\leq \\gamma \\left\\|f-g\\right\\|_{\\infty}$$\n",
        "\n",
        "Hence as we have $\\mathcal{T}^{\\pi} Q^{\\pi} = Q^{\\pi}$, and we suppose $\\gamma < 1$:\n",
        "$$\\left\\|\\left(\\mathcal{T}^{\\pi}\\right)^n f - Q^{\\pi}\\right\\|_{\\infty} \\leq \\gamma^n \\left\\|f - Q^{\\pi}\\right\\|_{\\infty} \\xrightarrow[n \\to +\\infty]{} 0$$\n",
        "\n",
        "**Part 4**\n",
        "\n",
        "Now, let us define the deterministic policy $\\hat{\\pi}$:\n",
        "$$\\hat{\\pi}(s) = \\text{arg}\\max_{a \\in \\mathcal{A}} Q^*(s,a) = \\text{arg}\\max_{a\\in \\mathcal{A}} Q^{\\pi^*}(s,a)$$\n",
        "\n",
        "Now, we have by **(4)**:\n",
        "$$Q^{\\pi^*} = \\mathcal{T}^{\\pi^*} Q^{\\pi^*} \\leq \\mathcal{T} Q^{\\pi^*}$$ \n",
        "And:\n",
        "$$\\mathcal{T} Q^{\\pi^*} = r(s,a)+ \\gamma \\sum_{s'} \\max_{a'} Q^{\\pi^*}(s',a') p(s' \\mid s,a) = r(s,a) + \\gamma \\sum_{s'} \\sum_{a'} Q^{\\pi^*} (s',a') \\hat{\\pi}(a' \\mid s') p(s' \\mid s,a) = \\mathcal{T}^{\\hat{\\pi}} Q^{\\pi^*}$$\n",
        "Hence:\n",
        "$$Q^{\\pi^*} \\leq \\mathcal{T}^{\\hat{\\pi}} Q^{\\pi^*}$$\n",
        "By using iteratively **(5)** with $f = Q^{\\pi^*}$ and $g = \\mathcal{T}^{\\hat{\\pi}} Q^{\\pi^*}$, we get:\n",
        "$$Q^{\\pi^*} \\leq \\left(\\mathcal{T}^{\\hat{\\pi}}\\right)^n Q^{\\pi^*}$$\n",
        "And by **(6)**, we get by making $n$ go to $+\\infty$:\n",
        "$$Q^{\\pi^*} \\leq Q^{\\hat{\\pi}}$$\n",
        "By maximality of $\\pi^*$, we get:\n",
        "$$Q^{\\pi^*} = Q^* = Q^{\\hat{\\pi}}$$\n",
        "And:\n",
        "\\begin{align*}\n",
        "Q^*(s,a) &= r(s,a) + \\gamma \\sum_{s'} \\sum_{a'} Q^*(s',a') \\hat{\\pi}(s',a') p(s' \\mid s,a) \\\\\n",
        "&= r(s,a) + \\gamma \\sum_{s'} \\max_{a'} Q^*(s',a') p(s' \\mid s,a)\n",
        "\\end{align*}\n",
        "By definition of $\\hat{\\pi}$, which ends the proof."
      ]
    },
    {
      "cell_type": "markdown",
      "metadata": {
        "id": "dqOCFPaLjV9k",
        "colab_type": "text"
      },
      "source": [
        "***\n",
        "The DQN-learning algorithm relies on these derivations to train the parameters $\\theta$ of a Deep Neural Network:\n",
        "\n",
        "1. At the state $s_t$, select the action $a_t$ with best reward using $Q_t$ and store the results;\n",
        "\n",
        "2. Obtain the new state $s_{t+1}$ from the environment $p$;\n",
        "\n",
        "3. Store $(s_t,a_t,s_{t+1})$;\n",
        "\n",
        "4. Obtain $Q_{t+1}$ by minimizing  $\\mathcal{L}$ from a recovered batch from the previously stored results.\n",
        "\n",
        "***\n",
        "__Question 6__ Implement the class ```Memory``` that stores moves (in a replay buffer) via ```remember``` and provides a ```random_access``` to these. Specify a maximum memory size to avoid side effects. You can for example use a ```list()``` and set by default ```max_memory=100```."
      ]
    },
    {
      "cell_type": "code",
      "metadata": {
        "id": "auZPMk4SjV9k",
        "colab_type": "code",
        "colab": {}
      },
      "source": [
        "class Memory(object):\n",
        "    def __init__(self, max_memory=100):\n",
        "        self.max_memory = max_memory\n",
        "        self.memory = list()\n",
        "\n",
        "    def remember(self, m):\n",
        "        self.memory.append(m)\n",
        "\n",
        "        if len(self.memory) > self.max_memory:\n",
        "            del self.memory[0]\n",
        "\n",
        "    def random_access(self):\n",
        "        return self.memory[np.random.randint(len(self.memory))]"
      ],
      "execution_count": 0,
      "outputs": []
    },
    {
      "cell_type": "markdown",
      "metadata": {
        "id": "aXw2F_VDjV9n",
        "colab_type": "text"
      },
      "source": [
        "***\n",
        "The pipeline we will use for training is given below:"
      ]
    },
    {
      "cell_type": "code",
      "metadata": {
        "id": "ZmxPbFMjjV9n",
        "colab_type": "code",
        "colab": {}
      },
      "source": [
        "def train(agent,env,epoch,prefix=''):\n",
        "    # Number of won games\n",
        "    score = 0\n",
        "    loss = 0\n",
        "\n",
        "    for e in range(epoch):\n",
        "        # At each epoch, we restart to a fresh game and get the initial state\n",
        "        state = env.reset()\n",
        "        # This assumes that the games will terminate\n",
        "        game_over = False\n",
        "\n",
        "        win = 0\n",
        "        lose = 0\n",
        "\n",
        "        while not game_over:\n",
        "            # The agent performs an action\n",
        "            action = agent.act(state)\n",
        "\n",
        "            # Apply an action to the environment, get the next state, the reward\n",
        "            # and if the games end\n",
        "            prev_state = state\n",
        "            state, reward, game_over = env.act(action)\n",
        "\n",
        "            # Update the counters\n",
        "            if reward > 0:\n",
        "                win = win + reward\n",
        "            if reward < 0:\n",
        "                lose = lose -reward\n",
        "\n",
        "            # Apply the reinforcement strategy\n",
        "            loss = agent.reinforce(prev_state, state, action, reward, game_over)\n",
        "\n",
        "        # Save as a mp4\n",
        "        if e % 10 == 0:\n",
        "            env.draw(prefix+str(e))\n",
        "\n",
        "        # Update stats\n",
        "        score += win-lose\n",
        "\n",
        "        print(\"Epoch {:03d}/{:03d} | Loss {:.4f} | Win/lose count {}/{} ({})\"\n",
        "              .format(e, epoch, loss, win, lose, win-lose))\n",
        "        agent.save(name_weights=prefix+'model.h5',name_model=prefix+'model.json')"
      ],
      "execution_count": 0,
      "outputs": []
    },
    {
      "cell_type": "markdown",
      "metadata": {
        "id": "2knIfXufjV9p",
        "colab_type": "text"
      },
      "source": [
        "***\n",
        "__Question 7__ Implement the DQN training algorithm using a cascade of fully connected layers. You can use different learning rate, batch size or memory size parameters. In particular, the loss might oscillate while the player will start to win the games. You have to find a good criterium."
      ]
    },
    {
      "cell_type": "code",
      "metadata": {
        "id": "xu03jlYBjV9q",
        "colab_type": "code",
        "colab": {}
      },
      "source": [
        "class DQN(Agent):\n",
        "    def __init__(self, grid_size, epsilon = 0.1, memory_size=100, batch_size = 16,n_state=2):\n",
        "        super(DQN, self).__init__(epsilon = epsilon)\n",
        "\n",
        "        # Discount for Q learning\n",
        "        self.discount = 0.99\n",
        "        \n",
        "        self.grid_size = grid_size\n",
        "        \n",
        "        # number of state\n",
        "        self.n_state = n_state\n",
        "\n",
        "        # Memory\n",
        "        self.memory = Memory(memory_size)\n",
        "        \n",
        "        # Batch size when learning\n",
        "        self.batch_size = batch_size\n",
        "\n",
        "    def learned_act(self, s):\n",
        "        return self.model.predict(s[None]).argmax()\n",
        "\n",
        "    def reinforce(self, s_, n_s_, a_, r_, game_over_):\n",
        "        # Two steps: first memorize the states, second learn from the pool\n",
        "\n",
        "        self.memory.remember([s_, n_s_, a_, r_, game_over_])\n",
        "        \n",
        "        input_states = np.zeros((self.batch_size, 5, 5, self.n_state))\n",
        "        target_q = np.zeros((self.batch_size, 4))\n",
        "        \n",
        "        for i in range(self.batch_size):\n",
        "            s, n_s, a, r, game_over = self.memory.random_access()\n",
        "            input_states[i] = s\n",
        "            target_q[i] = self.model.predict(s[None])\n",
        "\n",
        "            if game_over:\n",
        "                pass\n",
        "            else:\n",
        "                target_q[i,a] = r + self.discount * self.model.predict(n_s[None]).max()\n",
        "        \n",
        "        # HINT: Clip the target to avoid exploiding gradients.. -- clipping is a bit tighter\n",
        "        target_q = np.clip(target_q, -3, 3)\n",
        "\n",
        "        l = self.model.train_on_batch(input_states, target_q)\n",
        "\n",
        "        return l\n",
        "\n",
        "    def save(self, name_weights='model.h5', name_model='model.json'):\n",
        "        self.model.save_weights(name_weights, overwrite=True)\n",
        "\n",
        "        with open(name_model, \"w\") as outfile:\n",
        "            json.dump(self.model.to_json(), outfile)\n",
        "            \n",
        "    def load(self, name_weights='model.h5', name_model='model.json'):\n",
        "        with open(name_model, \"r\") as jfile:\n",
        "            model = model_from_json(json.load(jfile))\n",
        "        \n",
        "        model.load_weights(name_weights)\n",
        "        model.compile(\"sgd\", \"mse\")\n",
        "        self.model = model\n",
        "\n",
        "from keras.layers import Flatten\n",
        "\n",
        "class DQN_FC(DQN):\n",
        "    def __init__(self, *args, lr=0.1,**kwargs):\n",
        "        super(DQN_FC, self).__init__(*args, **kwargs)\n",
        "        \n",
        "        # NN Model\n",
        "        model = Sequential()\n",
        "        model.add(Flatten())\n",
        "        model.add(Dense(256, activation='relu'))\n",
        "        model.add(Dense(4))\n",
        "    \n",
        "        #model.compile(sgd(lr=lr, decay=1e-4, momentum=0.0), \"mse\")\n",
        "        model.compile(keras.optimizers.Adam(lr=1e-3), \"mse\")\n",
        "        self.model = model\n",
        "        "
      ],
      "execution_count": 0,
      "outputs": []
    },
    {
      "cell_type": "code",
      "metadata": {
        "id": "RRgi42_ZjV9t",
        "colab_type": "code",
        "outputId": "3e12bc11-1b2a-40a1-da40-cfc178a70011",
        "colab": {
          "base_uri": "https://localhost:8080/",
          "height": 1000
        }
      },
      "source": [
        "env = Environment(grid_size=size, max_time=T, temperature=0.3)\n",
        "agent = DQN_FC(size, lr=.01, epsilon = 0.1, memory_size=2000, batch_size = 32)\n",
        "train(agent, env, epochs_train, prefix='fc_train')\n",
        "HTML(display_videos('fc_train10.mp4'))"
      ],
      "execution_count": 12,
      "outputs": [
        {
          "output_type": "stream",
          "text": [
            "WARNING:tensorflow:From /usr/local/lib/python3.6/dist-packages/keras/backend/tensorflow_backend.py:66: The name tf.get_default_graph is deprecated. Please use tf.compat.v1.get_default_graph instead.\n",
            "\n",
            "WARNING:tensorflow:From /usr/local/lib/python3.6/dist-packages/keras/optimizers.py:793: The name tf.train.Optimizer is deprecated. Please use tf.compat.v1.train.Optimizer instead.\n",
            "\n",
            "WARNING:tensorflow:From /usr/local/lib/python3.6/dist-packages/keras/backend/tensorflow_backend.py:541: The name tf.placeholder is deprecated. Please use tf.compat.v1.placeholder instead.\n",
            "\n",
            "WARNING:tensorflow:From /usr/local/lib/python3.6/dist-packages/keras/backend/tensorflow_backend.py:4432: The name tf.random_uniform is deprecated. Please use tf.random.uniform instead.\n",
            "\n",
            "WARNING:tensorflow:From /usr/local/lib/python3.6/dist-packages/keras/backend/tensorflow_backend.py:3005: The name tf.Session is deprecated. Please use tf.compat.v1.Session instead.\n",
            "\n",
            "WARNING:tensorflow:From /usr/local/lib/python3.6/dist-packages/keras/backend/tensorflow_backend.py:190: The name tf.get_default_session is deprecated. Please use tf.compat.v1.get_default_session instead.\n",
            "\n",
            "WARNING:tensorflow:From /usr/local/lib/python3.6/dist-packages/keras/backend/tensorflow_backend.py:197: The name tf.ConfigProto is deprecated. Please use tf.compat.v1.ConfigProto instead.\n",
            "\n",
            "WARNING:tensorflow:From /usr/local/lib/python3.6/dist-packages/keras/backend/tensorflow_backend.py:207: The name tf.global_variables is deprecated. Please use tf.compat.v1.global_variables instead.\n",
            "\n",
            "WARNING:tensorflow:From /usr/local/lib/python3.6/dist-packages/keras/backend/tensorflow_backend.py:216: The name tf.is_variable_initialized is deprecated. Please use tf.compat.v1.is_variable_initialized instead.\n",
            "\n",
            "WARNING:tensorflow:From /usr/local/lib/python3.6/dist-packages/keras/backend/tensorflow_backend.py:223: The name tf.variables_initializer is deprecated. Please use tf.compat.v1.variables_initializer instead.\n",
            "\n",
            "WARNING:tensorflow:From /usr/local/lib/python3.6/dist-packages/keras/backend/tensorflow_backend.py:1033: The name tf.assign_add is deprecated. Please use tf.compat.v1.assign_add instead.\n",
            "\n",
            "WARNING:tensorflow:From /usr/local/lib/python3.6/dist-packages/keras/backend/tensorflow_backend.py:1020: The name tf.assign is deprecated. Please use tf.compat.v1.assign instead.\n",
            "\n",
            "Epoch 000/020 | Loss 0.0013 | Win/lose count 4.5/8.0 (-3.5)\n",
            "Epoch 001/020 | Loss 0.0021 | Win/lose count 5.5/3.0 (2.5)\n",
            "Epoch 002/020 | Loss 0.0020 | Win/lose count 5.5/6.0 (-0.5)\n",
            "Epoch 003/020 | Loss 0.0023 | Win/lose count 2.5/6.0 (-3.5)\n",
            "Epoch 004/020 | Loss 0.0011 | Win/lose count 2.5/3.0 (-0.5)\n",
            "Epoch 005/020 | Loss 0.0004 | Win/lose count 5.0/3.0 (2.0)\n",
            "Epoch 006/020 | Loss 0.0007 | Win/lose count 10.5/5.0 (5.5)\n",
            "Epoch 007/020 | Loss 0.0007 | Win/lose count 7.0/1.0 (6.0)\n",
            "Epoch 008/020 | Loss 0.0009 | Win/lose count 5.0/1.0 (4.0)\n",
            "Epoch 009/020 | Loss 0.0013 | Win/lose count 8.5/1.0 (7.5)\n",
            "Epoch 010/020 | Loss 0.0020 | Win/lose count 7.0/2.0 (5.0)\n",
            "Epoch 011/020 | Loss 0.0011 | Win/lose count 4.0/1.0 (3.0)\n",
            "Epoch 012/020 | Loss 0.0004 | Win/lose count 6.5/1.0 (5.5)\n",
            "Epoch 013/020 | Loss 0.0003 | Win/lose count 7.5/1.0 (6.5)\n",
            "Epoch 014/020 | Loss 0.0009 | Win/lose count 10.0/3.0 (7.0)\n",
            "Epoch 015/020 | Loss 0.0006 | Win/lose count 5.5/2.0 (3.5)\n",
            "Epoch 016/020 | Loss 0.0007 | Win/lose count 8.0/2.0 (6.0)\n",
            "Epoch 017/020 | Loss 0.0008 | Win/lose count 6.0/5.0 (1.0)\n",
            "Epoch 018/020 | Loss 0.0008 | Win/lose count 3.0/4.0 (-1.0)\n",
            "Epoch 019/020 | Loss 0.0009 | Win/lose count 6.5/2.0 (4.5)\n"
          ],
          "name": "stdout"
        },
        {
          "output_type": "execute_result",
          "data": {
            "text/html": [
              "<video alt=\"test\" controls>\n",
              "                <source src=\"data:video/mp4;base64,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\" type=\"video/mp4\" />\n",
              "             </video>"
            ],
            "text/plain": [
              "<IPython.core.display.HTML object>"
            ]
          },
          "metadata": {
            "tags": []
          },
          "execution_count": 12
        }
      ]
    },
    {
      "cell_type": "markdown",
      "metadata": {
        "id": "P9gOaXW8jV9v",
        "colab_type": "text"
      },
      "source": [
        "***\n",
        "***\n",
        "__Question 8__ Implement the DQN training algorithm using a CNN (for example, 2 convolutional layers and one final fully connected layer)."
      ]
    },
    {
      "cell_type": "code",
      "metadata": {
        "id": "7F0-ZsOojV9v",
        "colab_type": "code",
        "colab": {}
      },
      "source": [
        "class DQN_CNN(DQN):\n",
        "    def __init__(self, *args,lr=0.1,**kwargs):\n",
        "        super(DQN_CNN, self).__init__(*args,**kwargs)\n",
        "        \n",
        "        model = Sequential()\n",
        "        model.add(Conv2D(5, 3, padding=\"same\", activation=\"relu\"))\n",
        "        model.add(Conv2D(5, 3, padding=\"same\", activation=\"relu\"))\n",
        "        model.add(Flatten())\n",
        "        model.add(Dense(4))\n",
        "        \n",
        "        #model.compile(sgd(lr=lr, decay=1e-4, momentum=0.0), \"mse\")\n",
        "        model.compile(keras.optimizers.Adam(lr=1e-2), \"mse\")\n",
        "        self.model = model"
      ],
      "execution_count": 0,
      "outputs": []
    },
    {
      "cell_type": "code",
      "metadata": {
        "id": "9Zpnp_MujV9x",
        "colab_type": "code",
        "colab": {
          "base_uri": "https://localhost:8080/",
          "height": 633
        },
        "outputId": "315065e5-0e05-437c-f52e-7aedf1975ce6"
      },
      "source": [
        "env = Environment(grid_size=size, max_time=T, temperature=0.3)\n",
        "agent = DQN_CNN(size, lr=.1, epsilon = 0.1, memory_size=2000, batch_size = 32)\n",
        "train(agent,env,epochs_train,prefix='cnn_train')\n",
        "HTML(display_videos('cnn_train10.mp4'))"
      ],
      "execution_count": 14,
      "outputs": [
        {
          "output_type": "stream",
          "text": [
            "Epoch 000/020 | Loss 0.0009 | Win/lose count 5.0/5.0 (0.0)\n",
            "Epoch 001/020 | Loss 0.0015 | Win/lose count 5.5/3.0 (2.5)\n",
            "Epoch 002/020 | Loss 0.0009 | Win/lose count 4.0/4.0 (0.0)\n",
            "Epoch 003/020 | Loss 0.0010 | Win/lose count 11.0/4.0 (7.0)\n",
            "Epoch 004/020 | Loss 0.0008 | Win/lose count 3.5/1.0 (2.5)\n",
            "Epoch 005/020 | Loss 0.0020 | Win/lose count 8.0/6.0 (2.0)\n",
            "Epoch 006/020 | Loss 0.0015 | Win/lose count 11.5/1.0 (10.5)\n",
            "Epoch 007/020 | Loss 0.0009 | Win/lose count 5.0/5.0 (0.0)\n",
            "Epoch 008/020 | Loss 0.0010 | Win/lose count 13.0/3.0 (10.0)\n",
            "Epoch 009/020 | Loss 0.0007 | Win/lose count 9.5/4.0 (5.5)\n",
            "Epoch 010/020 | Loss 0.0006 | Win/lose count 7.5/1.0 (6.5)\n",
            "Epoch 011/020 | Loss 0.0017 | Win/lose count 11.5/3.0 (8.5)\n",
            "Epoch 012/020 | Loss 0.0052 | Win/lose count 7.5/3.0 (4.5)\n",
            "Epoch 013/020 | Loss 0.0060 | Win/lose count 13.5/1.0 (12.5)\n",
            "Epoch 014/020 | Loss 0.0004 | Win/lose count 7.5/2.0 (5.5)\n",
            "Epoch 015/020 | Loss 0.0066 | Win/lose count 15.5/3.0 (12.5)\n",
            "Epoch 016/020 | Loss 0.0005 | Win/lose count 6.5/0 (6.5)\n",
            "Epoch 017/020 | Loss 0.0006 | Win/lose count 4.0/5.0 (-1.0)\n",
            "Epoch 018/020 | Loss 0.0004 | Win/lose count 12.0/5.0 (7.0)\n",
            "Epoch 019/020 | Loss 0.0011 | Win/lose count 5.0/3.0 (2.0)\n"
          ],
          "name": "stdout"
        },
        {
          "output_type": "execute_result",
          "data": {
            "text/html": [
              "<video alt=\"test\" controls>\n",
              "                <source src=\"data:video/mp4;base64,AAAAIGZ0eXBpc29tAAACAGlzb21pc28yYXZjMW1wNDEAAAAIZnJlZQAAFvRtZGF0AAACrQYF//+p3EXpvebZSLeWLNgg2SPu73gyNjQgLSBjb3JlIDE1MiByMjg1NCBlOWE1OTAzIC0gSC4yNjQvTVBFRy00IEFWQyBjb2RlYyAtIENvcHlsZWZ0IDIwMDMtMjAxNyAtIGh0dHA6Ly93d3cudmlkZW9sYW4ub3JnL3gyNjQuaHRtbCAtIG9wdGlvbnM6IGNhYmFjPTEgcmVmPTMgZGVibG9jaz0xOjA6MCBhbmFseXNlPTB4MToweDExMSBtZT1oZXggc3VibWU9NyBwc3k9MSBwc3lfcmQ9MS4wMDowLjAwIG1peGVkX3JlZj0xIG1lX3JhbmdlPTE2IGNocm9tYV9tZT0xIHRyZWxsaXM9MSA4eDhkY3Q9MCBjcW09MCBkZWFkem9uZT0yMSwxMSBmYXN0X3Bza2lwPTEgY2hyb21hX3FwX29mZnNldD00IHRocmVhZHM9MyBsb29rYWhlYWRfdGhyZWFkcz0xIHNsaWNlZF90aHJlYWRzPTAgbnI9MCBkZWNpbWF0ZT0xIGludGVybGFjZWQ9MCBibHVyYXlfY29tcGF0PTAgY29uc3RyYWluZWRfaW50cmE9MCBiZnJhbWVzPTMgYl9weXJhbWlkPTIgYl9hZGFwdD0xIGJfYmlhcz0wIGRpcmVjdD0xIHdlaWdodGI9MSBvcGVuX2dvcD0wIHdlaWdodHA9MiBrZXlpbnQ9MjUwIGtleWludF9taW49MjUgc2NlbmVjdXQ9NDAgaW50cmFfcmVmcmVzaD0wIHJjX2xvb2thaGVhZD00MCByYz1jcmYgbWJ0cmVlPTEgY3JmPTIzLjAgcWNvbXA9MC42MCBxcG1pbj0wIHFwbWF4PTY5IHFwc3RlcD00IGlwX3JhdGlvPTEuNDAgYXE9MToxLjAwAIAAAALKZYiEADv//vb8/AptUwn/LZ/+iL/lb+9P2a61uFE7M7QacwPQC/3cd/Xi1bCrc27LcdG8bJkAU3Roif8JrvvgUzW1p+BRKmvE+kvrwhP8GdykWRlvy4ULaS2AXBLIMKaBrGVOlxwS6CfkfEmehnE9KWVEEEUxB+a9zfUawpMa4/yo1jANTifR4TX4OSyaBUWEzWmBVdIasmsMwMVoFexqbz1qnmPHRhdMulK4lHYvYY90jOCW45lFGFB6r4KLxtPx03/4bQybkO2VKmeZLqBvb2qnL7g8bfIKjnEb3V92GFuSzkdthyA44YztyfpKaZyo2MwYuhoVvtCGXAAJksVIaJJQO5HLAJG65mCQ0Githp+WqEBzPH8bigwDiwTgegCld0WJGqvYZB8Areqh39NGuAxRx9EOaHN35os1y8geIqIeQTIoqeFfxcA5HCnKmH0EoAGQcUMcAZrNUbWAeuSgRIQ8Uh7J9AViGuAm6IEzgAgCWc6Xn4BfRukeaOGSUr7XziWpEeb5zSGLCX1nv8jgw5Wb+zNEMGOmpW5WweLMbJ1Y/ZJmfJGPOKPyVkZWH5v2wCI5JHR378Kz4NS1BSw5sMpZyGJpafkbFKHxOQGyGFzGN6DECBZ0OBsnzBN+kAYBs2BOWC6rGYIpkrVil2hA0O/niqE0DsHpYF8uOEDG1IqdwwFpO6ePi/K8BvJ9l4Uj5SsE5VKy4cuI6YuL+AvFCG6EAt6XVzb21XQng2+lGQn6BMQEJo7ql3AP20oUzTwCMapMDpFPFSRMSeOiZtUrc+SbiaYZCCfeAytf8cxIv0KQSpgTJOwArX0Q/IoemKzViAdhbWgIMlAMvYig4d/K+yo0Yf6uP3UjAEyd/nnDPI6sIo8FMCJ+HkyMLPnL8iinnZdmOrX5fhj31VumRSgQDZ0YF0OULenVpzCYfjltbQQN7yC5D3TAAEfBAAAAGUGaJGxDf/6nhAAO57B/NpdRMHFkJyu1NUgAAAAPQZ5CeIX/AAjs+HdyaSrhAAAADwGeYXRCvwAMQ8m884wPgAAAABABnmNqQr8AC/EyTTfSQdkxAAAAGkGaZUmoQWiZTAh3//6plgAE5+POlnR1PMfBAAAAGUGaiEnhClJlMCHf/qmWAATH48/fsg3FXeEAAAAPQZ6mRTRMK/8AB5gf837hAAAADQGex2pCvwAHmsCga6YAAAAgQZrMSahBaJlMCHf//qmWAAMZ7S/aDwc36utZyg3EY0AAAAAQQZ7qRREsL/8AA5/2hxdoYQAAABABnwl0Qr8ABPk1oyS3+1eAAAAAEAGfC2pCvwAE1ta7vJKTUGAAAAATQZsQSahBbJlMCHf//qmWAACVgQAAABVBny5FFSwv/wADc+uWM24nFByIUOEAAAAQAZ9NdEK/AATYQBztjjT7oQAAABABn09qQr8ABLZZDD6AkH44AAAAE0GbVEmoQWyZTAh3//6plgAAlYAAAAAMQZ9yRRUsL/8AALKBAAAAEAGfkXRCvwAE2EAdCxiceDAAAAAQAZ+TakK/AATW1ru8kpNQYAAAABNBm5hJqEFsmUwId//+qZYAAJWBAAAADEGftkUVLC//AACygAAAABABn9V0Qr8ABNhAHQsYnHgxAAAAEAGf12pCvwAE1ta7vJKTUGEAAAATQZvcSahBbJlMCHf//qmWAACVgAAAAAxBn/pFFSwv/wAAsoEAAAAQAZ4ZdEK/AATYQB0LGJx4MAAAABABnhtqQr8ABNbWu7ySk1BhAAAAE0GaAEmoQWyZTAh3//6plgAAlYEAAAAMQZ4+RRUsL/8AALKAAAAAEAGeXXRCvwAE2EAdCxiceDAAAAAQAZ5fakK/AATW1ru8kpNQYQAAABJBmkRJqEFsmUwIb//+p4QAAScAAAAMQZ5iRRUsL/8AALKBAAAAEAGegXRCvwAE2EAdCxiceDAAAAAPAZ6DakK/AAMbnJus9WkzAAAAH0GahkmoQWyZTBRMN//+p4QABh3VqmP9W7fZWBCfsVMAAAAPAZ6lakK/AAT6wjyYHr6vAAAAG0Gap0nhClJlMCHf/qmWAAMZ7agObtB0dTzvwQAAABJBmstJ4Q6JlMCHf/6plgAAlYAAAAASQZ7pRRE8L/8AA4sS2br/I48YAAAAEAGfCHRCvwAE1dWjJLf7W4EAAAAQAZ8KakK/AATXZ5bhs2tbgAAAABxBmw9JqEFomUwId//+qZYABMCjogWaA7vox7AaAAAAEEGfLUURLC//AAWugQUobmkAAAAPAZ9MdEK/AAT6SAfNMh45AAAAEAGfTmpCvwAHmZ4F1+sUysEAAAASQZtTSahBbJlMCG///qeEAAEnAAAAE0GfcUUVLC//AAjsfOmcV1PYnhwAAAAPAZ+QdEK/AAxElm4NkvMXAAAAEAGfkmpCvwAMQR251oYX30AAAAAdQZuVSahBbJlMFEw7//6plgAEx+PP5dntQshS6SsAAAAQAZ+0akK/AAeYID4D6/ggMQAAABhBm7lJ4QpSZTAh3/6plgAEwVOH++0vu5MAAAAQQZ/XRTRML/8ABa6BBShuaQAAAA8Bn/Z0Qr8ABNbRi4D88GEAAAAQAZ/4akK/AAeZngXX6xTKwAAAABJBm/1JqEFomUwIb//+p4QAAScAAAATQZ4bRREsL/8ACOx86ZxXU9ieHAAAAA8Bnjp0Qr8ADESWbg2S8xcAAAAQAZ48akK/AAxBHbnWhhffQQAAABpBmj5JqEFsmUwId//+qZYABMfjzpZ0dTzJwAAAABpBmkJJ4QpSZTAh3/6plgAHSZEEm5Rvjz6LTAAAABBBnmBFNEwv/wAIrn7NwRLxAAAADwGen3RCvwAHbL0Bkl1lgAAAABABnoFqQr8AC/OqeTA9fDmBAAAAE0GahkmoQWiZTAh3//6plgAAlYAAAAAMQZ6kRREsL/8AALKBAAAAEAGew3RCvwAMQ8m6O2+GLoEAAAAPAZ7FakK/AAxALGiVzzAfAAAAE0GaykmoQWyZTAh3//6plgAAlYEAAAAMQZ7oRRUsL/8AALKAAAAAEAGfB3RCvwAMQ8m6O2+GLoAAAAAPAZ8JakK/AAxALGiVzzAfAAAAHUGbDEmoQWyZTBRMO//+qZYAB1PaX9f1WoWQpdEzAAAADwGfK2pCvwAL8S0qRQJXLgAAABhBmzBJ4QpSZTAh3/6plgAHSXTH++0vuu8AAAAQQZ9ORTRML/8ACK5+zcES8QAAAA8Bn210Qr8AB2y9AZJdZYEAAAAQAZ9vakK/AAvzqnkwPXw5gAAAABNBm3RJqEFomUwId//+qZYAAJWAAAAAE0GfkkURLC//AAivoIpSOmcsXGMAAAAQAZ+xdEK/AAvwCmeV+SnC8AAAABABn7NqQr8ADEAsa95pWgTAAAAAHEGbuEmoQWyZTAhv//6nhAAOj7B/nKdeFGtzJM0AAAAQQZ/WRRUsL/8ACK5+zcES8AAAAA8Bn/V0Qr8ADEPJvPOMD4EAAAAPAZ/3akK/AAvxLSpFAlcvAAAAHUGb+kmoQWyZTBRMO//+qZYABKfjz+XZ7ULIUuk1AAAAEAGeGWpCvwAHbBec60MMC8EAAAAbQZoeSeEKUmUwId/+qZYAAvHvq++MKgWimIjKAAAAEEGePEU0TC//AAN0q8b2EPkAAAAPAZ5bdEK/AAS20IDJLuuBAAAAEAGeXWpCvwAEtlkMPoCQfjgAAAAeQZpCSahBaJlMCG///qeEAAYd1apj/Vu32VgQn7FSAAAAEEGeYEURLC//AAOgnTv87IkAAAAPAZ6fdEK/AATYQB0JybzAAAAADwGegWpCvwAE+sI8mB6+rwAAABpBmoNJqEFsmUwId//+qZYAAxntLwtQT+xGwAAAABJBmqdJ4QpSZTAh3/6plgAAlYEAAAASQZ7FRTRML/8AA4sS2br/I48ZAAAAEAGe5HRCvwAE1dWjJLf7W4EAAAAQAZ7makK/AATXZ5bhs2tbgQAAABtBmupJqEFomUwId//+qZYAAwXtqHz+uxBuK40AAAASQZ8IRREsK/8ABPsoRrj3uBpAAAAADgGfKWpCvwAE+bGPRFq9AAAAE0GbLkmoQWyZTAh3//6plgAAlYAAAAAMQZ9MRRUsL/8AALKAAAAAEAGfa3RCvwADG5ycR2XaOYEAAAAPAZ9takK/AAMbnJus9WkzAAAAE0GbckmoQWyZTAh3//6plgAAlYEAAAAMQZ+QRRUsL/8AALKAAAAAEAGfr3RCvwADG5ycR2XaOYAAAAAPAZ+xakK/AAMbnJus9WkzAAAAE0GbtkmoQWyZTAh3//6plgAAlYAAAAAMQZ/URRUsL/8AALKAAAAAEAGf83RCvwADG5ycR2XaOYEAAAAQAZ/1akK/AATW1ru8kpNQYAAAABNBm/pJqEFsmUwId//+qZYAAJWBAAAADEGeGEUVLC//AACygQAAABABnjd0Qr8ABNhAHQsYnHgwAAAAEAGeOWpCvwAE1ta7vJKTUGEAAAATQZo+SahBbJlMCHf//qmWAACVgAAAAAxBnlxFFSwv/wAAsoEAAAAQAZ57dEK/AATYQB0LGJx4MQAAABABnn1qQr8ABNbWu7ySk1BgAAAAHkGaYkmoQWyZTAh3//6plgAC7aWcoM0Cn0qgx/7KHAAAABBBnoBFFSwv/wADdKvG9hD5AAAADwGev3RCvwAE2EAdCcm8wAAAABABnqFqQr8ABNXmiZE0rUJBAAAAHUGapkmoQWyZTAhv//6nhAAGJWN5qbYY13on72u4AAAAEkGexEUVLC//AAOgnq9dHGORaQAAABABnuN0Qr8ABLXak8r8lO6xAAAADwGe5WpCvwAE+sI8mB6+rwAAABJBmupJqEFsmUwIZ//+nhAABH0AAAAQQZ8IRRUsL/8AA6ES2b9JkQAAABABnyd0Qr8ABPk1oyS3+1eAAAAADwGfKWpCvwAE+sI8mB6+rwAAABlBmytJqEFsmUwIb//+p4QACWoAs2xihOtAAAAAHUGbTUnhClJlMFFSw3/+p4QADiA8TXGqJfon+RrIAAAAEAGfbGpCvwAL8Cxr3mlaBsEAAAAZQZtuSeEOiZTAhv/+p4QAFh9E/1W+Y/FLwQAAAB1Bm5FJ4Q8mUwIb//6nhAAhqALNnwf544PKv1LMwQAAABJBn69FETwr/wAbp1vKNXhJU6YAAAAQAZ/QakK/ABunVPJgevd7gAAAAB1Bm9RJqEFomUwIb//+p4QANLSJ/q7e6n4QznDwQQAAABJBn/JFESwr/wArNkQuw30vPXgAAAAPAZ4TakK/ACs2RCcEDk7gAAAAHEGaFUmoQWyZTAhv//6nhABRvRP9VvqoMf+IpIEAAAAZQZo2SeEKUmUwId/+qZYAPmmQk2tHjHqfmAAAABxBmlpJ4Q6JlMCG//6nhAEsQCZrYgDkWfB/ObKBAAAAFEGeeEURPC//ALXQCULEWXG58YZbAAAAEAGel3RCvwCfdAOdscaaC2AAAAAQAZ6ZakK/APKzwh40NYyhgQAAABxBmp1JqEFomUwIb//+p4QBNB8x5GUQJ3/RrIuAAAAAD0Geu0URLCv/APgCuGs/wQAAAA8BntxqQr8A/s0b1WAFLaEAAAAeQZrASahBbJlMCG///qeEATwfMeRlECd/0IXW2HEwAAAAEkGe/kUVLCv/AP7Yr2FgvyzbgAAAAA4Bnx9qQr8A/tkx5wQG3QAAABdBmwFJqEFsmUwId//+qZYAoNyrxa0TKgAAABJBmyVJ4QpSZTAh3/6plgAAlYEAAAAMQZ9DRTRML/8AALKAAAAAEAGfYnRCvwD1qG9l1X8B18EAAAAPAZ9kakK/AP8JQa+7tpNxAAAAE0GbaUmoQWiZTAh3//6plgAAlYEAAAAMQZ+HRREsL/8AALKBAAAAEAGfpnRCvwD1qG9l1X8B18AAAAAPAZ+oakK/AP8JQa+7tpNwAAAAE0GbrUmoQWyZTAh3//6plgAAlYEAAAAMQZ/LRRUsL/8AALKAAAAAEAGf6nRCvwD1qG9l1X8B18AAAAAPAZ/sakK/AP8JQa+7tpNxAAAAE0Gb8UmoQWyZTAh3//6plgAAlYEAAAAMQZ4PRRUsL/8AALKBAAAAEAGeLnRCvwD1qG9l1X8B18AAAAAPAZ4wakK/AP8JQa+7tpNwAAAAEkGaNUmoQWyZTAhv//6nhAABJwAAAAxBnlNFFSwv/wAAsoAAAAAQAZ5ydEK/APWob2XVfwHXwAAAAA8BnnRqQr8A/wlBr7u2k3EAAAAdQZp3SahBbJlMFEw3//6nhAE1+On3MjC2YoRy5xwAAAAPAZ6WakK/APgD+qRQJVGpAAAAGEGamknhClJlMCGf/p4QBJDhHP4c5vrKDwAAABJBnrhFNEwr/wDys76FuSKo2YAAAAAOAZ7ZakK/APKzxa16o2cAAAAaQZrbSahBaJlMCG///qeEAkHRP9St9nyEqYAAAAAYQZr8SeEKUmUwIb/+p4QCYRWkEIn+BfHpAAAAGkGbH0nhDomUwIb//qeEAoihjUtqc1UH9pgxAAAAEUGfPUURPCv/AZNm5rjLB9lxAAAADgGfXmpCvwGTJDMm5JLiAAAAHUGbQ0moQWiZTAhn//6eEAiniH8fD42Oc6bFSqbVAAAAEEGfYUURLC//ARbPOzG282YAAAAPAZ+AdEK/AnbSsYL+0G3BAAAAEAGfgmpCvwF/I7c60MLw3cAAAAAaQZuESahBbJlMCG///qeEASX46fUcaEhwW0EAAAAZQZuoSeEKUmUwIX/+jLAEYQseBR/b/8qVtQAAABBBn8ZFNEwv/wCs0CK0on/5AAAADwGf5XRCvwCa2hAZJcqXgQAAABABn+dqQr8A57PmN0OSDih4AAAAGkGb6UuoQhBaJEYIKAfyAf2HgCFf/jhAABFwAAAMOG1vb3YAAABsbXZoZAAAAAAAAAAAAAAAAAAAA+gAAB+QAAEAAAEAAAAAAAAAAAAAAAABAAAAAAAAAAAAAAAAAAAAAQAAAAAAAAAAAAAAAAAAQAAAAAAAAAAAAAAAAAAAAAAAAAAAAAAAAAAAAAAAAAIAAAtidHJhawAAAFx0a2hkAAAAAwAAAAAAAAAAAAAAAQAAAAAAAB+QAAAAAAAAAAAAAAAAAAAAAAABAAAAAAAAAAAAAAAAAAAAAQAAAAAAAAAAAAAAAAAAQAAAAAEQAAABEAAAAAAAJGVkdHMAAAAcZWxzdAAAAAAAAAABAAAfkAAABAAAAQAAAAAK2m1kaWEAAAAgbWRoZAAAAAAAAAAAAAAAAAAAMgAAAZQAVcQAAAAAAC1oZGxyAAAAAAAAAAB2aWRlAAAAAAAAAAAAAAAAVmlkZW9IYW5kbGVyAAAACoVtaW5mAAAAFHZtaGQAAAABAAAAAAAAAAAAAAAkZGluZgAAABxkcmVmAAAAAAAAAAEAAAAMdXJsIAAAAAEAAApFc3RibAAAAJVzdHNkAAAAAAAAAAEAAACFYXZjMQAAAAAAAAABAAAAAAAAAAAAAAAAAAAAAAEQARAASAAAAEgAAAAAAAAAAQAAAAAAAAAAAAAAAAAAAAAAAAAAAAAAAAAAAAAAAAAAABj//wAAAC9hdmNDAfQADf/hABdn9AANkZsoIhHQgAAAAwCAAAAZB4oUywEABWjr48RIAAAAGHN0dHMAAAAAAAAAAQAAAMoAAAIAAAAAFHN0c3MAAAAAAAAAAQAAAAEAAAYQY3R0cwAAAAAAAADAAAAAAQAABAAAAAABAAAKAAAAAAEAAAQAAAAAAQAAAAAAAAABAAACAAAAAAEAAAQAAAAAAQAACAAAAAACAAACAAAAAAEAAAoAAAAAAQAABAAAAAABAAAAAAAAAAEAAAIAAAAAAQAACgAAAAABAAAEAAAAAAEAAAAAAAAAAQAAAgAAAAABAAAKAAAAAAEAAAQAAAAAAQAAAAAAAAABAAACAAAAAAEAAAoAAAAAAQAABAAAAAABAAAAAAAAAAEAAAIAAAAAAQAACgAAAAABAAAEAAAAAAEAAAAAAAAAAQAAAgAAAAABAAAKAAAAAAEAAAQAAAAAAQAAAAAAAAABAAACAAAAAAEAAAoAAAAAAQAABAAAAAABAAAAAAAAAAEAAAIAAAAAAQAABgAAAAABAAACAAAAAAEAAAQAAAAAAQAACgAAAAABAAAEAAAAAAEAAAAAAAAAAQAAAgAAAAABAAAKAAAAAAEAAAQAAAAAAQAAAAAAAAABAAACAAAAAAEAAAoAAAAAAQAABAAAAAABAAAAAAAAAAEAAAIAAAAAAQAABgAAAAABAAACAAAAAAEAAAoAAAAAAQAABAAAAAABAAAAAAAAAAEAAAIAAAAAAQAACgAAAAABAAAEAAAAAAEAAAAAAAAAAQAAAgAAAAABAAAEAAAAAAEAAAoAAAAAAQAABAAAAAABAAAAAAAAAAEAAAIAAAAAAQAACgAAAAABAAAEAAAAAAEAAAAAAAAAAQAAAgAAAAABAAAKAAAAAAEAAAQAAAAAAQAAAAAAAAABAAACAAAAAAEAAAYAAAAAAQAAAgAAAAABAAAKAAAAAAEAAAQAAAAAAQAAAAAAAAABAAACAAAAAAEAAAoAAAAAAQAABAAAAAABAAAAAAAAAAEAAAIAAAAAAQAACgAAAAABAAAEAAAAAAEAAAAAAAAAAQAAAgAAAAABAAAGAAAAAAEAAAIAAAAAAQAACgAAAAABAAAEAAAAAAEAAAAAAAAAAQAAAgAAAAABAAAKAAAAAAEAAAQAAAAAAQAAAAAAAAABAAACAAAAAAEAAAQAAAAAAQAACgAAAAABAAAEAAAAAAEAAAAAAAAAAQAAAgAAAAABAAAIAAAAAAIAAAIAAAAAAQAACgAAAAABAAAEAAAAAAEAAAAAAAAAAQAAAgAAAAABAAAKAAAAAAEAAAQAAAAAAQAAAAAAAAABAAACAAAAAAEAAAoAAAAAAQAABAAAAAABAAAAAAAAAAEAAAIAAAAAAQAACgAAAAABAAAEAAAAAAEAAAAAAAAAAQAAAgAAAAABAAAKAAAAAAEAAAQAAAAAAQAAAAAAAAABAAACAAAAAAEAAAoAAAAAAQAABAAAAAABAAAAAAAAAAEAAAIAAAAAAQAACgAAAAABAAAEAAAAAAEAAAAAAAAAAQAAAgAAAAABAAAKAAAAAAEAAAQAAAAAAQAAAAAAAAABAAACAAAAAAEAAAQAAAAAAQAABgAAAAABAAACAAAAAAEAAAQAAAAAAQAACAAAAAACAAACAAAAAAEAAAgAAAAAAgAAAgAAAAACAAAEAAAAAAEAAAoAAAAAAQAABAAAAAABAAAAAAAAAAEAAAIAAAAAAQAACAAAAAACAAACAAAAAAEAAAgAAAAAAgAAAgAAAAABAAAEAAAAAAEAAAoAAAAAAQAABAAAAAABAAAAAAAAAAEAAAIAAAAAAQAACgAAAAABAAAEAAAAAAEAAAAAAAAAAQAAAgAAAAABAAAKAAAAAAEAAAQAAAAAAQAAAAAAAAABAAACAAAAAAEAAAoAAAAAAQAABAAAAAABAAAAAAAAAAEAAAIAAAAAAQAACgAAAAABAAAEAAAAAAEAAAAAAAAAAQAAAgAAAAABAAAGAAAAAAEAAAIAAAAAAQAACAAAAAACAAACAAAAAAIAAAQAAAAAAQAACAAAAAACAAACAAAAAAEAAAoAAAAAAQAABAAAAAABAAAAAAAAAAEAAAIAAAAAAQAABAAAAAABAAAKAAAAAAEAAAQAAAAAAQAAAAAAAAABAAACAAAAAAEAAAQAAAAAHHN0c2MAAAAAAAAAAQAAAAEAAADKAAAAAQAAAzxzdHN6AAAAAAAAAAAAAADKAAAFfwAAAB0AAAATAAAAEwAAABQAAAAeAAAAHQAAABMAAAARAAAAJAAAABQAAAAUAAAAFAAAABcAAAAZAAAAFAAAABQAAAAXAAAAEAAAABQAAAAUAAAAFwAAABAAAAAUAAAAFAAAABcAAAAQAAAAFAAAABQAAAAXAAAAEAAAABQAAAAUAAAAFgAAABAAAAAUAAAAEwAAACMAAAATAAAAHwAAABYAAAAWAAAAFAAAABQAAAAgAAAAFAAAABMAAAAUAAAAFgAAABcAAAATAAAAFAAAACEAAAAUAAAAHAAAABQAAAATAAAAFAAAABYAAAAXAAAAEwAAABQAAAAeAAAAHgAAABQAAAATAAAAFAAAABcAAAAQAAAAFAAAABMAAAAXAAAAEAAAABQAAAATAAAAIQAAABMAAAAcAAAAFAAAABMAAAAUAAAAFwAAABcAAAAUAAAAFAAAACAAAAAUAAAAEwAAABMAAAAhAAAAFAAAAB8AAAAUAAAAEwAAABQAAAAiAAAAFAAAABMAAAATAAAAHgAAABYAAAAWAAAAFAAAABQAAAAfAAAAFgAAABIAAAAXAAAAEAAAABQAAAATAAAAFwAAABAAAAAUAAAAEwAAABcAAAAQAAAAFAAAABQAAAAXAAAAEAAAABQAAAAUAAAAFwAAABAAAAAUAAAAFAAAACIAAAAUAAAAEwAAABQAAAAhAAAAFgAAABQAAAATAAAAFgAAABQAAAAUAAAAEwAAAB0AAAAhAAAAFAAAAB0AAAAhAAAAFgAAABQAAAAhAAAAFgAAABMAAAAgAAAAHQAAACAAAAAYAAAAFAAAABQAAAAgAAAAEwAAABMAAAAiAAAAFgAAABIAAAAbAAAAFgAAABAAAAAUAAAAEwAAABcAAAAQAAAAFAAAABMAAAAXAAAAEAAAABQAAAATAAAAFwAAABAAAAAUAAAAEwAAABYAAAAQAAAAFAAAABMAAAAhAAAAEwAAABwAAAAWAAAAEgAAAB4AAAAcAAAAHgAAABUAAAASAAAAIQAAABQAAAATAAAAFAAAAB4AAAAdAAAAFAAAABMAAAAUAAAAHgAAABRzdGNvAAAAAAAAAAEAAAAwAAAAYnVkdGEAAABabWV0YQAAAAAAAAAhaGRscgAAAAAAAAAAbWRpcmFwcGwAAAAAAAAAAAAAAAAtaWxzdAAAACWpdG9vAAAAHWRhdGEAAAABAAAAAExhdmY1Ny44My4xMDA=\" type=\"video/mp4\" />\n",
              "             </video>"
            ],
            "text/plain": [
              "<IPython.core.display.HTML object>"
            ]
          },
          "metadata": {
            "tags": []
          },
          "execution_count": 14
        }
      ]
    },
    {
      "cell_type": "markdown",
      "metadata": {
        "id": "6aUhzTsFjV9z",
        "colab_type": "text"
      },
      "source": [
        "***\n",
        "***\n",
        "__Question 9__ Test both algorithms and compare their performances. Which issue(s) do you observe? Observe also different behaviors by changing the temperature."
      ]
    },
    {
      "cell_type": "code",
      "metadata": {
        "id": "N6Fhy-EUjV90",
        "colab_type": "code",
        "colab": {
          "base_uri": "https://localhost:8080/",
          "height": 765
        },
        "outputId": "f447b1bf-7a71-4b87-c474-f02f730ac224"
      },
      "source": [
        "env = Environment(grid_size=size, max_time=T,temperature=0.6) # 0.3 initially\n",
        "agent_cnn = DQN_CNN(size, lr=.1, epsilon = 0.1, memory_size=2000, batch_size = 32)\n",
        "agent_cnn.load(name_weights='cnn_trainmodel.h5',name_model='cnn_trainmodel.json')\n",
        "\n",
        "agent_fc = DQN_FC(size, lr=.1, epsilon = 0.1, memory_size=2000, batch_size = 32)\n",
        "agent_cnn.load(name_weights='fc_trainmodel.h5',name_model='fc_trainmodel.json')\n",
        "print('Test of the CNN')\n",
        "test(agent_cnn,env,epochs_test,prefix='cnn_test')\n",
        "print('Test of the FC')\n",
        "test(agent_fc,env,epochs_test,prefix='fc_test')"
      ],
      "execution_count": 15,
      "outputs": [
        {
          "output_type": "stream",
          "text": [
            "Test of the CNN\n",
            "Win/lose count 1.0/0.0. Average score (1.0)\n",
            "Win/lose count 12.0/0.0. Average score (6.5)\n",
            "Win/lose count 0.5/0.0. Average score (4.5)\n",
            "Win/lose count 13.0/1.0. Average score (6.375)\n",
            "Win/lose count 1.5/0.0. Average score (5.4)\n",
            "Win/lose count 9.0/0.0. Average score (6.0)\n",
            "Win/lose count 4.5/0.0. Average score (5.785714285714286)\n",
            "Win/lose count 9.5/0.0. Average score (6.25)\n",
            "Win/lose count 9.5/1.0. Average score (6.5)\n",
            "Win/lose count 3.5/0.0. Average score (6.2)\n",
            "Win/lose count 6.0/0.0. Average score (6.181818181818182)\n",
            "Win/lose count 5.5/1.0. Average score (6.041666666666667)\n",
            "Win/lose count 2.0/0.0. Average score (5.730769230769231)\n",
            "Win/lose count 4.5/0.0. Average score (5.642857142857143)\n",
            "Win/lose count 9.5/0.0. Average score (5.9)\n",
            "Win/lose count 0.5/0.0. Average score (5.5625)\n",
            "Win/lose count 6.0/0.0. Average score (5.588235294117647)\n",
            "Win/lose count 4.0/1.0. Average score (5.444444444444445)\n",
            "Win/lose count 4.0/0.0. Average score (5.368421052631579)\n",
            "Win/lose count 9.5/0.0. Average score (5.575)\n",
            "Final score: 5.575\n",
            "Test of the FC\n",
            "Win/lose count 4.0/3.0. Average score (1.0)\n",
            "Win/lose count 4.5/5.0. Average score (0.25)\n",
            "Win/lose count 2.0/0.0. Average score (0.8333333333333334)\n",
            "Win/lose count 0.5/2.0. Average score (0.25)\n",
            "Win/lose count 0.5/3.0. Average score (-0.3)\n",
            "Win/lose count 1.0/2.0. Average score (-0.4166666666666667)\n",
            "Win/lose count 2.5/1.0. Average score (-0.14285714285714285)\n",
            "Win/lose count 2.0/2.0. Average score (-0.125)\n",
            "Win/lose count 3.5/3.0. Average score (-0.05555555555555555)\n",
            "Win/lose count 4.0/3.0. Average score (0.05)\n",
            "Win/lose count 1.5/1.0. Average score (0.09090909090909091)\n",
            "Win/lose count 2.0/1.0. Average score (0.16666666666666666)\n",
            "Win/lose count 2.0/3.0. Average score (0.07692307692307693)\n",
            "Win/lose count 2.5/3.0. Average score (0.03571428571428571)\n",
            "Win/lose count 3.5/4.0. Average score (0.0)\n",
            "Win/lose count 0.5/0.0. Average score (0.03125)\n",
            "Win/lose count 5.5/1.0. Average score (0.29411764705882354)\n",
            "Win/lose count 0.5/1.0. Average score (0.25)\n",
            "Win/lose count 3.0/0.0. Average score (0.39473684210526316)\n",
            "Win/lose count 1.0/1.0. Average score (0.375)\n",
            "Final score: 0.375\n"
          ],
          "name": "stdout"
        }
      ]
    },
    {
      "cell_type": "code",
      "metadata": {
        "id": "_3bTBTntjV93",
        "colab_type": "code",
        "colab": {
          "base_uri": "https://localhost:8080/",
          "height": 293
        },
        "outputId": "0fea7e95-9d2d-4c63-d9a8-9d61cb5bb1b6"
      },
      "source": [
        "HTML(display_videos('cnn_test10.mp4'))"
      ],
      "execution_count": 16,
      "outputs": [
        {
          "output_type": "execute_result",
          "data": {
            "text/html": [
              "<video alt=\"test\" controls>\n",
              "                <source src=\"data:video/mp4;base64,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\" type=\"video/mp4\" />\n",
              "             </video>"
            ],
            "text/plain": [
              "<IPython.core.display.HTML object>"
            ]
          },
          "metadata": {
            "tags": []
          },
          "execution_count": 16
        }
      ]
    },
    {
      "cell_type": "code",
      "metadata": {
        "id": "nnkL9rqljV95",
        "colab_type": "code",
        "colab": {
          "base_uri": "https://localhost:8080/",
          "height": 293
        },
        "outputId": "2fe79fe1-77e9-443c-925b-bae36f7c9bec"
      },
      "source": [
        "HTML(display_videos('fc_test10.mp4'))"
      ],
      "execution_count": 17,
      "outputs": [
        {
          "output_type": "execute_result",
          "data": {
            "text/html": [
              "<video alt=\"test\" controls>\n",
              "                <source src=\"data:video/mp4;base64,AAAAIGZ0eXBpc29tAAACAGlzb21pc28yYXZjMW1wNDEAAAAIZnJlZQAAFPltZGF0AAACrQYF//+p3EXpvebZSLeWLNgg2SPu73gyNjQgLSBjb3JlIDE1MiByMjg1NCBlOWE1OTAzIC0gSC4yNjQvTVBFRy00IEFWQyBjb2RlYyAtIENvcHlsZWZ0IDIwMDMtMjAxNyAtIGh0dHA6Ly93d3cudmlkZW9sYW4ub3JnL3gyNjQuaHRtbCAtIG9wdGlvbnM6IGNhYmFjPTEgcmVmPTMgZGVibG9jaz0xOjA6MCBhbmFseXNlPTB4MToweDExMSBtZT1oZXggc3VibWU9NyBwc3k9MSBwc3lfcmQ9MS4wMDowLjAwIG1peGVkX3JlZj0xIG1lX3JhbmdlPTE2IGNocm9tYV9tZT0xIHRyZWxsaXM9MSA4eDhkY3Q9MCBjcW09MCBkZWFkem9uZT0yMSwxMSBmYXN0X3Bza2lwPTEgY2hyb21hX3FwX29mZnNldD00IHRocmVhZHM9MyBsb29rYWhlYWRfdGhyZWFkcz0xIHNsaWNlZF90aHJlYWRzPTAgbnI9MCBkZWNpbWF0ZT0xIGludGVybGFjZWQ9MCBibHVyYXlfY29tcGF0PTAgY29uc3RyYWluZWRfaW50cmE9MCBiZnJhbWVzPTMgYl9weXJhbWlkPTIgYl9hZGFwdD0xIGJfYmlhcz0wIGRpcmVjdD0xIHdlaWdodGI9MSBvcGVuX2dvcD0wIHdlaWdodHA9MiBrZXlpbnQ9MjUwIGtleWludF9taW49MjUgc2NlbmVjdXQ9NDAgaW50cmFfcmVmcmVzaD0wIHJjX2xvb2thaGVhZD00MCByYz1jcmYgbWJ0cmVlPTEgY3JmPTIzLjAgcWNvbXA9MC42MCBxcG1pbj0wIHFwbWF4PTY5IHFwc3RlcD00IGlwX3JhdGlvPTEuNDAgYXE9MToxLjAwAIAAAAJnZYiEADf//vaH+BTZWBP+Wb/9DX/cj9uPrP1xYyEE31qvIejAGS+1H+b/rFFs6Z6UB/fgCJQAc24ZwpJw4v/ApLdW+BTLYTkUOhxAgv1cDANBREl020hSHdHG/shOYnr9ljSlx8M16OrPt3CoDM3uoSJ0M4OpUM/uel0yxu7Syfo46DJL2VZjDYxZgyM6crsHewkR0XQJRWFeBloaw7SLWl1a7UiUyJrKNpbWWDcDrgvvBzfqrCQuox4cxfJiaWVZlk5mpsVuFZ/e3lG6FgBtfTr4MaKa8ci6L+2ftZYXpALyuJGuBL3I3YSbWsvfvpJAxzlRxkqj6gJSL+Q4NuL4OQIc6j5owmj7oY4eRXzT0kHBPwRj8lnY8ncr08obOz6GqU6bQr7UsHL7AkEliuCBc7Ye812mFhg9MDvVlMe1t6Lx2gVWgno+r5owmJ/Xtxwz/onUmh9h3ndkT+Xs2xfpeoR4gKvE/mCuAHub4xH1HaBv47nH1pa5UVde4Urr0vSbdnfgolv+U4DrThF1JhklGbjAYZK9+8i7IeIVQ7xs7tL/rY8FQfUl8v9424bLTfKnE4J2HRkAqgPOh6H9liRPuadj+L+8aWMmOOAA+H37siOYZLjTjWjP0uSI+c4krUcqpPFuipN0K/IP48JwH1lMCH27XZloZ1y4HF031VdELgAIFEprNvCrFXz7uEuEBdeOCBqmyP1lApN/DPBVgvKoyqRX3oMDFIcRsPrwPSg5jvTDRwM8iEkUivt5KSAP8p9UNecak8R+Aubc+Tm2M4xwGFcAGZJQBRksIUvqS6H58lU9zqJ2OAGNAAAAJEGaI2xDf/6nhADI/Alc5llc94/ApUtn4FM7AxdvXX0DIthWYAAAABBBnkF4hX8Ao+aEDqu9xavTAAAAEAGeYmpCvwCj2PHK/WKRZkAAAAAZQZpkSahBaJlMCG///qeEATRAFm2MUJRJwQAAAB9BmoZJ4QpSZTBREsN//qeEAmHRkOUwR20iesH+yiPhAAAAEAGepWpCvwGJhpdw+2bR8XEAAAAbQZqnSeEOiZTAh3/+qZYFHkhJswUugcP6sGVBAAAAEkGay0nhDyZTAh3//qmWAACVgAAAAAxBnulFETwv/wAAsoAAAAAQAZ8IdEK/AnbSsYPg5B3lYQAAABABnwpqQr8CddodCE1JiDbgAAAAE0GbD0moQWiZTAh3//6plgAAlYAAAAAMQZ8tRREsL/8AALKBAAAAEAGfTHRCvwJ20rGD4OQd5WEAAAAQAZ9OakK/AnXaHQhNSYg24QAAABNBm1NJqEFsmUwId//+qZYAAJWAAAAADEGfcUUVLC//AACygAAAABABn5B0Qr8CdtKxg+DkHeVhAAAAEAGfkmpCvwJ12h0ITUmINuAAAAATQZuXSahBbJlMCHf//qmWAACVgAAAAAxBn7VFFSwv/wAAsoEAAAAQAZ/UdEK/AnbSsYPg5B3lYAAAABABn9ZqQr8CddodCE1JiDbhAAAAE0Gb20moQWyZTAh3//6plgAAlYEAAAAMQZ/5RRUsL/8AALKAAAAAEAGeGHRCvwJ20rGD4OQd5WEAAAAQAZ4aakK/AnXaHQhNSYg24AAAABNBmh9JqEFsmUwId//+qZYAAJWBAAAADEGePUUVLC//AACygQAAABABnlx0Qr8CdtKxg+DkHeVgAAAAEAGeXmpCvwJ12h0ITUmINuAAAAATQZpDSahBbJlMCHf//qmWAACVgQAAAAxBnmFFFSwv/wAAsoAAAAAQAZ6AdEK/AnbSsYPg5B3lYQAAABABnoJqQr8CddodCE1JiDbgAAAAE0Gah0moQWyZTAh3//6plgAAlYEAAAAMQZ6lRRUsL/8AALKBAAAAEAGexHRCvwJ20rGD4OQd5WEAAAAQAZ7GakK/AnXaHQhNSYg24QAAABNBmstJqEFsmUwId//+qZYAAJWAAAAADEGe6UUVLC//AACygAAAABABnwh0Qr8CdtKxg+DkHeVhAAAAEAGfCmpCvwJ12h0ITUmINuAAAAATQZsPSahBbJlMCHf//qmWAACVgAAAAAxBny1FFSwv/wAAsoEAAAAQAZ9MdEK/AnbSsYPg5B3lYQAAABABn05qQr8CddodCE1JiDbhAAAAE0GbU0moQWyZTAh3//6plgAAlYAAAAAMQZ9xRRUsL/8AALKAAAAAEAGfkHRCvwJ20rGD4OQd5WEAAAAQAZ+SakK/AnXaHQhNSYg24AAAABNBm5dJqEFsmUwId//+qZYAAJWAAAAADEGftUUVLC//AACygQAAABABn9R0Qr8CdtKxg+DkHeVgAAAAEAGf1mpCvwJ12h0ITUmINuEAAAATQZvbSahBbJlMCHf//qmWAACVgQAAAAxBn/lFFSwv/wAAsoAAAAAQAZ4YdEK/AnbSsYPg5B3lYQAAABABnhpqQr8CddodCE1JiDbgAAAAE0GaH0moQWyZTAh3//6plgAAlYEAAAAMQZ49RRUsL/8AALKBAAAAEAGeXHRCvwJ20rGD4OQd5WAAAAAQAZ5eakK/AnXaHQhNSYg24AAAABNBmkNJqEFsmUwId//+qZYAAJWBAAAADEGeYUUVLC//AACygAAAABABnoB0Qr8CdtKxg+DkHeVhAAAAEAGegmpCvwJ12h0ITUmINuAAAAATQZqHSahBbJlMCHf//qmWAACVgQAAAAxBnqVFFSwv/wAAsoEAAAAQAZ7EdEK/AnbSsYPg5B3lYQAAABABnsZqQr8CddodCE1JiDbhAAAAE0Gay0moQWyZTAh3//6plgAAlYAAAAAMQZ7pRRUsL/8AALKAAAAAEAGfCHRCvwJ20rGD4OQd5WEAAAAQAZ8KakK/AnXaHQhNSYg24AAAABNBmw9JqEFsmUwId//+qZYAAJWAAAAADEGfLUUVLC//AACygQAAABABn0x0Qr8CdtKxg+DkHeVhAAAAEAGfTmpCvwJ12h0ITUmINuEAAAATQZtTSahBbJlMCHf//qmWAACVgAAAAAxBn3FFFSwv/wAAsoAAAAAQAZ+QdEK/AnbSsYPg5B3lYQAAABABn5JqQr8CddodCE1JiDbgAAAAE0Gbl0moQWyZTAh3//6plgAAlYAAAAAMQZ+1RRUsL/8AALKBAAAAEAGf1HRCvwJ20rGD4OQd5WAAAAAQAZ/WakK/AnXaHQhNSYg24QAAABNBm9tJqEFsmUwId//+qZYAAJWBAAAADEGf+UUVLC//AACygAAAABABnhh0Qr8CdtKxg+DkHeVhAAAAEAGeGmpCvwJ12h0ITUmINuAAAAATQZofSahBbJlMCHf//qmWAACVgQAAAAxBnj1FFSwv/wAAsoEAAAAQAZ5cdEK/AnbSsYPg5B3lYAAAABABnl5qQr8CddodCE1JiDbgAAAAE0GaQ0moQWyZTAh3//6plgAAlYEAAAAMQZ5hRRUsL/8AALKAAAAAEAGegHRCvwJ20rGD4OQd5WEAAAAQAZ6CakK/AnXaHQhNSYg24AAAABNBmodJqEFsmUwId//+qZYAAJWBAAAADEGepUUVLC//AACygQAAABABnsR0Qr8CdtKxg+DkHeVhAAAAEAGexmpCvwJ12h0ITUmINuEAAAATQZrLSahBbJlMCHf//qmWAACVgAAAAAxBnulFFSwv/wAAsoAAAAAQAZ8IdEK/AnbSsYPg5B3lYQAAABABnwpqQr8CddodCE1JiDbgAAAAE0GbD0moQWyZTAh3//6plgAAlYAAAAAMQZ8tRRUsL/8AALKBAAAAEAGfTHRCvwJ20rGD4OQd5WEAAAAQAZ9OakK/AnXaHQhNSYg24QAAABNBm1NJqEFsmUwId//+qZYAAJWAAAAADEGfcUUVLC//AACygAAAABABn5B0Qr8CdtKxg+DkHeVhAAAAEAGfkmpCvwJ12h0ITUmINuAAAAATQZuXSahBbJlMCHf//qmWAACVgAAAAAxBn7VFFSwv/wAAsoEAAAAQAZ/UdEK/AnbSsYPg5B3lYAAAABABn9ZqQr8CddodCE1JiDbhAAAAE0Gb20moQWyZTAh3//6plgAAlYEAAAAMQZ/5RRUsL/8AALKAAAAAEAGeGHRCvwJ20rGD4OQd5WEAAAAQAZ4aakK/AnXaHQhNSYg24AAAABNBmh9JqEFsmUwId//+qZYAAJWBAAAADEGePUUVLC//AACygQAAABABnlx0Qr8CdtKxg+DkHeVgAAAAEAGeXmpCvwJ12h0ITUmINuAAAAATQZpDSahBbJlMCHf//qmWAACVgQAAAAxBnmFFFSwv/wAAsoAAAAAQAZ6AdEK/AnbSsYPg5B3lYQAAABABnoJqQr8CddodCE1JiDbgAAAAE0Gah0moQWyZTAh3//6plgAAlYEAAAAMQZ6lRRUsL/8AALKBAAAAEAGexHRCvwJ20rGD4OQd5WEAAAAQAZ7GakK/AnXaHQhNSYg24QAAABNBmstJqEFsmUwId//+qZYAAJWAAAAADEGe6UUVLC//AACygAAAABABnwh0Qr8CdtKxg+DkHeVhAAAAEAGfCmpCvwJ12h0ITUmINuAAAAATQZsPSahBbJlMCHf//qmWAACVgAAAAAxBny1FFSwv/wAAsoEAAAAQAZ9MdEK/AnbSsYPg5B3lYQAAABABn05qQr8CddodCE1JiDbhAAAAE0GbU0moQWyZTAh3//6plgAAlYAAAAAMQZ9xRRUsL/8AALKAAAAAEAGfkHRCvwJ20rGD4OQd5WEAAAAQAZ+SakK/AnXaHQhNSYg24AAAABNBm5dJqEFsmUwId//+qZYAAJWAAAAADEGftUUVLC//AACygQAAABABn9R0Qr8CdtKxg+DkHeVgAAAAEAGf1mpCvwJ12h0ITUmINuEAAAATQZvbSahBbJlMCHf//qmWAACVgQAAAAxBn/lFFSwv/wAAsoAAAAAQAZ4YdEK/AnbSsYPg5B3lYQAAABABnhpqQr8CddodCE1JiDbgAAAAE0GaH0moQWyZTAh3//6plgAAlYEAAAAMQZ49RRUsL/8AALKBAAAAEAGeXHRCvwJ20rGD4OQd5WAAAAAQAZ5eakK/AnXaHQhNSYg24AAAABNBmkNJqEFsmUwId//+qZYAAJWBAAAADEGeYUUVLC//AACygAAAABABnoB0Qr8CdtKxg+DkHeVhAAAAEAGegmpCvwJ12h0ITUmINuAAAAATQZqHSahBbJlMCHf//qmWAACVgQAAAAxBnqVFFSwv/wAAsoEAAAAQAZ7EdEK/AnbSsYPg5B3lYQAAABABnsZqQr8CddodCE1JiDbhAAAAE0Gay0moQWyZTAh3//6plgAAlYAAAAAMQZ7pRRUsL/8AALKAAAAAEAGfCHRCvwJ20rGD4OQd5WEAAAAQAZ8KakK/AnXaHQhNSYg24AAAABNBmw9JqEFsmUwId//+qZYAAJWAAAAADEGfLUUVLC//AACygQAAABABn0x0Qr8CdtKxg+DkHeVhAAAAEAGfTmpCvwJ12h0ITUmINuEAAAATQZtTSahBbJlMCHf//qmWAACVgAAAAAxBn3FFFSwv/wAAsoAAAAAQAZ+QdEK/AnbSsYPg5B3lYQAAABABn5JqQr8CddodCE1JiDbgAAAAE0Gbl0moQWyZTAh3//6plgAAlYAAAAAMQZ+1RRUsL/8AALKBAAAAEAGf1HRCvwJ20rGD4OQd5WAAAAAQAZ/WakK/AnXaHQhNSYg24QAAABNBm9tJqEFsmUwId//+qZYAAJWBAAAADEGf+UUVLC//AACygAAAABABnhh0Qr8CdtKxg+DkHeVhAAAAEAGeGmpCvwJ12h0ITUmINuAAAAASQZofSahBbJlMCG///qeEAAEnAAAADEGePUUVLC//AACygQAAABABnlx0Qr8CdtKxg+DkHeVgAAAAEAGeXmpCvwJ12h0ITUmINuAAAAASQZpDSahBbJlMCG///qeEAAEnAAAADEGeYUUVLC//AACygAAAABABnoB0Qr8CdtKxg+DkHeVhAAAAEAGegmpCvwJ12h0ITUmINuAAAAASQZqHSahBbJlMCGf//p4QAAR9AAAADEGepUUVLC//AACygQAAABABnsR0Qr8CdtKxg+DkHeVhAAAAEAGexmpCvwJ12h0ITUmINuEAAAAbQZrJS6hCEFskRggoB/IB/YeAUTCv/jhAABFwAAAAIwGe6GpCvwKvY/jF7s1l17z+RDSDLtLTHWoX23An1Jag9TnmAAAMgG1vb3YAAABsbXZoZAAAAAAAAAAAAAAAAAAAA+gAAB+QAAEAAAEAAAAAAAAAAAAAAAABAAAAAAAAAAAAAAAAAAAAAQAAAAAAAAAAAAAAAAAAQAAAAAAAAAAAAAAAAAAAAAAAAAAAAAAAAAAAAAAAAAIAAAuqdHJhawAAAFx0a2hkAAAAAwAAAAAAAAAAAAAAAQAAAAAAAB+QAAAAAAAAAAAAAAAAAAAAAAABAAAAAAAAAAAAAAAAAAAAAQAAAAAAAAAAAAAAAAAAQAAAAAEQAAABEAAAAAAAJGVkdHMAAAAcZWxzdAAAAAAAAAABAAAfkAAABAAAAQAAAAALIm1kaWEAAAAgbWRoZAAAAAAAAAAAAAAAAAAAMgAAAZQAVcQAAAAAAC1oZGxyAAAAAAAAAAB2aWRlAAAAAAAAAAAAAAAAVmlkZW9IYW5kbGVyAAAACs1taW5mAAAAFHZtaGQAAAABAAAAAAAAAAAAAAAkZGluZgAAABxkcmVmAAAAAAAAAAEAAAAMdXJsIAAAAAEAAAqNc3RibAAAAJVzdHNkAAAAAAAAAAEAAACFYXZjMQAAAAAAAAABAAAAAAAAAAAAAAAAAAAAAAEQARAASAAAAEgAAAAAAAAAAQAAAAAAAAAAAAAAAAAAAAAAAAAAAAAAAAAAAAAAAAAAABj//wAAAC9hdmNDAfQADf/hABdn9AANkZsoIhHQgAAAAwCAAAAZB4oUywEABWjr48RIAAAAGHN0dHMAAAAAAAAAAQAAAMoAAAIAAAAAFHN0c3MAAAAAAAAAAQAAAAEAAAZYY3R0cwAAAAAAAADJAAAAAQAABAAAAAABAAAIAAAAAAIAAAIAAAAAAQAABAAAAAABAAAGAAAAAAEAAAIAAAAAAQAABAAAAAABAAAKAAAAAAEAAAQAAAAAAQAAAAAAAAABAAACAAAAAAEAAAoAAAAAAQAABAAAAAABAAAAAAAAAAEAAAIAAAAAAQAACgAAAAABAAAEAAAAAAEAAAAAAAAAAQAAAgAAAAABAAAKAAAAAAEAAAQAAAAAAQAAAAAAAAABAAACAAAAAAEAAAoAAAAAAQAABAAAAAABAAAAAAAAAAEAAAIAAAAAAQAACgAAAAABAAAEAAAAAAEAAAAAAAAAAQAAAgAAAAABAAAKAAAAAAEAAAQAAAAAAQAAAAAAAAABAAACAAAAAAEAAAoAAAAAAQAABAAAAAABAAAAAAAAAAEAAAIAAAAAAQAACgAAAAABAAAEAAAAAAEAAAAAAAAAAQAAAgAAAAABAAAKAAAAAAEAAAQAAAAAAQAAAAAAAAABAAACAAAAAAEAAAoAAAAAAQAABAAAAAABAAAAAAAAAAEAAAIAAAAAAQAACgAAAAABAAAEAAAAAAEAAAAAAAAAAQAAAgAAAAABAAAKAAAAAAEAAAQAAAAAAQAAAAAAAAABAAACAAAAAAEAAAoAAAAAAQAABAAAAAABAAAAAAAAAAEAAAIAAAAAAQAACgAAAAABAAAEAAAAAAEAAAAAAAAAAQAAAgAAAAABAAAKAAAAAAEAAAQAAAAAAQAAAAAAAAABAAACAAAAAAEAAAoAAAAAAQAABAAAAAABAAAAAAAAAAEAAAIAAAAAAQAACgAAAAABAAAEAAAAAAEAAAAAAAAAAQAAAgAAAAABAAAKAAAAAAEAAAQAAAAAAQAAAAAAAAABAAACAAAAAAEAAAoAAAAAAQAABAAAAAABAAAAAAAAAAEAAAIAAAAAAQAACgAAAAABAAAEAAAAAAEAAAAAAAAAAQAAAgAAAAABAAAKAAAAAAEAAAQAAAAAAQAAAAAAAAABAAACAAAAAAEAAAoAAAAAAQAABAAAAAABAAAAAAAAAAEAAAIAAAAAAQAACgAAAAABAAAEAAAAAAEAAAAAAAAAAQAAAgAAAAABAAAKAAAAAAEAAAQAAAAAAQAAAAAAAAABAAACAAAAAAEAAAoAAAAAAQAABAAAAAABAAAAAAAAAAEAAAIAAAAAAQAACgAAAAABAAAEAAAAAAEAAAAAAAAAAQAAAgAAAAABAAAKAAAAAAEAAAQAAAAAAQAAAAAAAAABAAACAAAAAAEAAAoAAAAAAQAABAAAAAABAAAAAAAAAAEAAAIAAAAAAQAACgAAAAABAAAEAAAAAAEAAAAAAAAAAQAAAgAAAAABAAAKAAAAAAEAAAQAAAAAAQAAAAAAAAABAAACAAAAAAEAAAoAAAAAAQAABAAAAAABAAAAAAAAAAEAAAIAAAAAAQAACgAAAAABAAAEAAAAAAEAAAAAAAAAAQAAAgAAAAABAAAKAAAAAAEAAAQAAAAAAQAAAAAAAAABAAACAAAAAAEAAAoAAAAAAQAABAAAAAABAAAAAAAAAAEAAAIAAAAAAQAACgAAAAABAAAEAAAAAAEAAAAAAAAAAQAAAgAAAAABAAAKAAAAAAEAAAQAAAAAAQAAAAAAAAABAAACAAAAAAEAAAoAAAAAAQAABAAAAAABAAAAAAAAAAEAAAIAAAAAAQAACgAAAAABAAAEAAAAAAEAAAAAAAAAAQAAAgAAAAABAAAKAAAAAAEAAAQAAAAAAQAAAAAAAAABAAACAAAAAAEAAAoAAAAAAQAABAAAAAABAAAAAAAAAAEAAAIAAAAAAQAACgAAAAABAAAEAAAAAAEAAAAAAAAAAQAAAgAAAAABAAAKAAAAAAEAAAQAAAAAAQAAAAAAAAABAAACAAAAAAEAAAoAAAAAAQAABAAAAAABAAAAAAAAAAEAAAIAAAAAAQAACgAAAAABAAAEAAAAAAEAAAAAAAAAAQAAAgAAAAABAAAKAAAAAAEAAAQAAAAAAQAAAAAAAAABAAACAAAAAAEAAAoAAAAAAQAABAAAAAABAAAAAAAAAAEAAAIAAAAAAQAACgAAAAABAAAEAAAAAAEAAAAAAAAAAQAAAgAAAAABAAAGAAAAAAEAAAIAAAAAHHN0c2MAAAAAAAAAAQAAAAEAAADKAAAAAQAAAzxzdHN6AAAAAAAAAAAAAADKAAAFHAAAACgAAAAUAAAAFAAAAB0AAAAjAAAAFAAAAB8AAAAWAAAAEAAAABQAAAAUAAAAFwAAABAAAAAUAAAAFAAAABcAAAAQAAAAFAAAABQAAAAXAAAAEAAAABQAAAAUAAAAFwAAABAAAAAUAAAAFAAAABcAAAAQAAAAFAAAABQAAAAXAAAAEAAAABQAAAAUAAAAFwAAABAAAAAUAAAAFAAAABcAAAAQAAAAFAAAABQAAAAXAAAAEAAAABQAAAAUAAAAFwAAABAAAAAUAAAAFAAAABcAAAAQAAAAFAAAABQAAAAXAAAAEAAAABQAAAAUAAAAFwAAABAAAAAUAAAAFAAAABcAAAAQAAAAFAAAABQAAAAXAAAAEAAAABQAAAAUAAAAFwAAABAAAAAUAAAAFAAAABcAAAAQAAAAFAAAABQAAAAXAAAAEAAAABQAAAAUAAAAFwAAABAAAAAUAAAAFAAAABcAAAAQAAAAFAAAABQAAAAXAAAAEAAAABQAAAAUAAAAFwAAABAAAAAUAAAAFAAAABcAAAAQAAAAFAAAABQAAAAXAAAAEAAAABQAAAAUAAAAFwAAABAAAAAUAAAAFAAAABcAAAAQAAAAFAAAABQAAAAXAAAAEAAAABQAAAAUAAAAFwAAABAAAAAUAAAAFAAAABcAAAAQAAAAFAAAABQAAAAXAAAAEAAAABQAAAAUAAAAFwAAABAAAAAUAAAAFAAAABcAAAAQAAAAFAAAABQAAAAXAAAAEAAAABQAAAAUAAAAFwAAABAAAAAUAAAAFAAAABcAAAAQAAAAFAAAABQAAAAXAAAAEAAAABQAAAAUAAAAFwAAABAAAAAUAAAAFAAAABcAAAAQAAAAFAAAABQAAAAXAAAAEAAAABQAAAAUAAAAFwAAABAAAAAUAAAAFAAAABcAAAAQAAAAFAAAABQAAAAXAAAAEAAAABQAAAAUAAAAFwAAABAAAAAUAAAAFAAAABcAAAAQAAAAFAAAABQAAAAWAAAAEAAAABQAAAAUAAAAFgAAABAAAAAUAAAAFAAAABYAAAAQAAAAFAAAABQAAAAfAAAAJwAAABRzdGNvAAAAAAAAAAEAAAAwAAAAYnVkdGEAAABabWV0YQAAAAAAAAAhaGRscgAAAAAAAAAAbWRpcmFwcGwAAAAAAAAAAAAAAAAtaWxzdAAAACWpdG9vAAAAHWRhdGEAAAABAAAAAExhdmY1Ny44My4xMDA=\" type=\"video/mp4\" />\n",
              "             </video>"
            ],
            "text/plain": [
              "<IPython.core.display.HTML object>"
            ]
          },
          "metadata": {
            "tags": []
          },
          "execution_count": 17
        }
      ]
    },
    {
      "cell_type": "markdown",
      "metadata": {
        "id": "OsMBV3iijV97",
        "colab_type": "text"
      },
      "source": [
        "One can notice that the CNN approach seem to barely never get any poison, and the FC approach seems to get it more frequently, but it's rare. Both approach seem to be stuck when reaching a certain configuration of the state, they don't do any exploration.\n",
        "\n",
        "When one sets the temperature to be very low (0.05), one notice that the score of both approaches are really low, since they get stuck rapidly in a configuration where they loop and stop exploring.\n",
        "\n",
        "When one sets the temperature to be quite high (0.6), one notice that the average score gets higher (3.95 for the CNN approach, 0.55 for the FC approach). It might be explained by the fact that since there is way more things to eat, they more frequently reach a configuration where there is food nearby, and hence they go to that direction, which simulates some kind of exploration."
      ]
    },
    {
      "cell_type": "markdown",
      "metadata": {
        "id": "QNllH8t2jV98",
        "colab_type": "text"
      },
      "source": [
        "***\n",
        "\n",
        "The algorithm tends to not explore the map which can be an issue. We propose two ideas in order to encourage exploration:\n",
        "1. Incorporating a decreasing $\\epsilon$-greedy exploration. You can use the method ```set_epsilon```\n",
        "2. Append via the environment a new state that describes if a cell has been visited or not\n",
        "\n",
        "***\n",
        "__Question 10__ Design a new ```train_explore``` function and environment class ```EnvironmentExploring``` to tackle the issue of exploration.\n",
        "\n"
      ]
    },
    {
      "cell_type": "code",
      "metadata": {
        "id": "1lpn_KhajV98",
        "colab_type": "code",
        "colab": {}
      },
      "source": [
        "##########################\n",
        "# train_explore function #\n",
        "##########################\n",
        "\n",
        "def train_explore(agent, env, epoch,prefix=''):\n",
        "    # Number of won games\n",
        "    score = 0\n",
        "    loss = 0\n",
        "\n",
        "    # We set the agent so he explores a lot at the beginning\n",
        "    agent.set_epsilon(0.5)\n",
        "\n",
        "    for e in range(epoch):\n",
        "        # At each epoch, we restart to a fresh game and get the initial state\n",
        "        state = env.reset()\n",
        "\n",
        "        # This assumes that the games will terminate\n",
        "        game_over = False\n",
        "\n",
        "        win = 0\n",
        "        lose = 0\n",
        "\n",
        "        while not game_over:\n",
        "            # The agent performs an action\n",
        "            action = agent.act(state)\n",
        "\n",
        "            # Apply an action to the environment, get the next state, the reward\n",
        "            # and if the games end\n",
        "            prev_state = state\n",
        "            state, reward, game_over = env.act(action, train=True)\n",
        "\n",
        "            # Update the counters\n",
        "            if reward > 0:\n",
        "                win = win + reward\n",
        "            if reward < 0:\n",
        "                lose = lose - reward\n",
        "\n",
        "            # Apply the reinforcement strategy\n",
        "            loss = agent.reinforce(prev_state, state, action, reward, game_over)\n",
        "\n",
        "        # Save as a mp4\n",
        "        if e % 10 == 0:\n",
        "            env.draw(prefix+str(e))\n",
        "\n",
        "        # Update stats\n",
        "        score += win-lose\n",
        "\n",
        "        # We change the exploration rate of our agent\n",
        "        agent.set_epsilon(0.5 * (1/np.sqrt(epoch+1)))\n",
        "\n",
        "        print(\"Epoch {:03d}/{:03d} | Loss {:.4f} | Win/lose count {}/{} ({})\"\n",
        "              .format(e, epoch, loss, win, lose, win-lose))\n",
        "        agent.save(name_weights=prefix+'model.h5',name_model=prefix+'model.json')\n",
        "        \n",
        "\n",
        "##############################\n",
        "# EnvironmentExploring class #\n",
        "##############################\n",
        "\n",
        "class EnvironmentExploring(object):\n",
        "    def __init__(self, grid_size=10, max_time=500, temperature=0.1):\n",
        "        grid_size = grid_size+4\n",
        "        self.grid_size = grid_size\n",
        "        self.max_time = max_time\n",
        "        self.temperature = temperature\n",
        "\n",
        "        #board on which one plays\n",
        "        self.board = np.zeros((grid_size,grid_size))\n",
        "        self.position = np.zeros((grid_size,grid_size))\n",
        "\n",
        "        # History of positions\n",
        "        self.malus_position = np.zeros((grid_size, grid_size))\n",
        "\n",
        "        # coordinate of the cat\n",
        "        self.x = 0\n",
        "        self.y = 1\n",
        "\n",
        "        # self time\n",
        "        self.t = 0\n",
        "\n",
        "        self.scale = 16\n",
        "        self.to_draw = np.zeros((max_time+2, grid_size*self.scale, grid_size*self.scale, 3))\n",
        "    \n",
        "    def draw(self,e):\n",
        "        skvideo.io.vwrite(str(e) + '.mp4', self.to_draw)\n",
        "    \n",
        "    def get_frame(self,t):\n",
        "        b = np.zeros((self.grid_size, self.grid_size, 3)) + 128\n",
        "        b[self.board > 0,0] = 256\n",
        "        b[self.board < 0,2] = 256\n",
        "        b[self.x,self.y,:] = 256\n",
        "        b[-2:,:,:] = 0\n",
        "        b[:,-2:,:] = 0\n",
        "        b[:2,:,:] = 0\n",
        "        b[:,:2,:] = 0\n",
        "        \n",
        "        b = cv2.resize(b, None, fx=self.scale, fy=self.scale, interpolation=cv2.INTER_NEAREST)\n",
        "\n",
        "        self.to_draw[t,:,:,:] = b\n",
        "\n",
        "    def act(self, action, train=False):\n",
        "        \"\"\"This function returns the new state, reward and decides if the\n",
        "        game ends.\"\"\"\n",
        "\n",
        "        self.get_frame(int(self.t))\n",
        "\n",
        "        self.position = np.zeros((self.grid_size, self.grid_size))\n",
        "\n",
        "        self.position[0:2,:] = -1\n",
        "        self.position[:,0:2] = -1\n",
        "        self.position[-2:,:] = -1\n",
        "        self.position[-2:,:] = -1\n",
        "\n",
        "        self.position[self.x, self.y] = 1\n",
        "\n",
        "        # Update the position\n",
        "        if action == 0:\n",
        "            if self.x == self.grid_size-3:\n",
        "                self.x = self.x-1\n",
        "            else:\n",
        "                self.x = self.x + 1\n",
        "        elif action == 1:\n",
        "            if self.x == 2:\n",
        "                self.x = self.x+1\n",
        "            else:\n",
        "                self.x = self.x-1\n",
        "        elif action == 2:\n",
        "            if self.y == self.grid_size-3:\n",
        "                self.y = self.y-1\n",
        "            else:\n",
        "                self.y = self.y+1\n",
        "        elif action == 3:\n",
        "            if self.y == 2:\n",
        "                self.y = self.y+1\n",
        "            else:\n",
        "                self.y = self.y-1\n",
        "        else:\n",
        "            raise RuntimeError('Error: action not recognized')\n",
        "\n",
        "        # Update time and check if finished\n",
        "        self.t = self.t + 1\n",
        "        game_over = self.t > self.max_time\n",
        "\n",
        "        # Get reward\n",
        "        reward = self.board[self.x, self.y]\n",
        "        if train:\n",
        "            reward -= self.malus_position[self.x, self.y]\n",
        "        \n",
        "        # A \"plus\" here helped, it helps prevent loops\n",
        "        self.malus_position[self.x, self.y] += 0.1\n",
        "\n",
        "        # Update the board\n",
        "        self.board[self.x, self.y] = 0\n",
        "\n",
        "        # Create new state\n",
        "        state = np.concatenate((self.board[:,:,None],\n",
        "                                self.position[:,:,None],\n",
        "                                self.malus_position[:,:,None]), axis=2)\n",
        "        state = state[self.x-2:self.x+3,self.y-2:self.y+3,:]\n",
        "\n",
        "        return state, reward, game_over\n",
        "\n",
        "    def reset(self):\n",
        "        \"\"\"This function resets the game and returns the initial state\"\"\"\n",
        "\n",
        "        # Generate initial position\n",
        "        self.x = np.random.randint(3, self.grid_size-3, size=1)[0]\n",
        "        self.y = np.random.randint(3, self.grid_size-3, size=1)[0]\n",
        "\n",
        "        # Compute the position of the poison and cheese\n",
        "        bonus = 0.5*np.random.binomial(1,self.temperature,size=self.grid_size**2)\n",
        "        bonus = bonus.reshape(self.grid_size,self.grid_size)\n",
        "\n",
        "        malus = -1.0*np.random.binomial(1,self.temperature,size=self.grid_size**2)\n",
        "        malus = malus.reshape(self.grid_size, self.grid_size)\n",
        "\n",
        "        malus[bonus>0] = 0\n",
        "\n",
        "        # Define new board and timeline\n",
        "        self.to_draw = np.zeros((self.max_time+2, self.grid_size*self.scale, self.grid_size*self.scale, 3))\n",
        "        self.board = bonus + malus\n",
        "\n",
        "        self.position = np.zeros((self.grid_size, self.grid_size))\n",
        "        self.position[0:2,:] = -1\n",
        "        self.position[:,0:2] = -1\n",
        "        self.position[-2:,:] = -1\n",
        "        self.position[-2:,:] = -1\n",
        "        self.board[self.x,self.y] = 0\n",
        "\n",
        "        # Reset the visited cells\n",
        "        self.malus_position = np.zeros((self.grid_size, self.grid_size))\n",
        "\n",
        "        # Reset the timer\n",
        "        self.t = 0\n",
        "\n",
        "        # Return new state\n",
        "        state = np.concatenate((self.board[:,:,None],\n",
        "                                self.position[:,:,None],\n",
        "                                self.malus_position[:,:,None]),axis=2)\n",
        "\n",
        "        state = state[self.x - 2:self.x + 3, self.y - 2:self.y + 3, :]\n",
        "\n",
        "        return state"
      ],
      "execution_count": 0,
      "outputs": []
    },
    {
      "cell_type": "code",
      "metadata": {
        "id": "0HEgYhLmjV-A",
        "colab_type": "code",
        "colab": {
          "base_uri": "https://localhost:8080/",
          "height": 633
        },
        "outputId": "f1391015-5ef7-4ed2-c0bc-6fd21d1b8677"
      },
      "source": [
        "# Training\n",
        "env = EnvironmentExploring(grid_size=size, max_time=T, temperature=0.3)\n",
        "agent = DQN_CNN(size, lr=.1, epsilon = 0.1, memory_size=2000, batch_size = 32,n_state=3)\n",
        "train_explore(agent, env, epochs_train, prefix='cnn_train_explore')\n",
        "HTML(display_videos('cnn_train_explore10.mp4'))"
      ],
      "execution_count": 19,
      "outputs": [
        {
          "output_type": "stream",
          "text": [
            "Epoch 000/020 | Loss 0.0203 | Win/lose count 9.5/51.40000000000003 (-41.90000000000003)\n",
            "Epoch 001/020 | Loss 0.0138 | Win/lose count 18.0/47.60000000000001 (-29.60000000000001)\n",
            "Epoch 002/020 | Loss 0.0083 | Win/lose count 16.0/29.50000000000002 (-13.500000000000021)\n",
            "Epoch 003/020 | Loss 0.0302 | Win/lose count 17.0/30.499999999999993 (-13.499999999999993)\n",
            "Epoch 004/020 | Loss 0.0143 | Win/lose count 17.0/26.50000000000003 (-9.500000000000028)\n",
            "Epoch 005/020 | Loss 0.0163 | Win/lose count 23.0/24.700000000000006 (-1.7000000000000064)\n",
            "Epoch 006/020 | Loss 0.0087 | Win/lose count 13.0/41.100000000000016 (-28.100000000000016)\n",
            "Epoch 007/020 | Loss 0.0125 | Win/lose count 18.5/19.199999999999996 (-0.6999999999999957)\n",
            "Epoch 008/020 | Loss 0.0121 | Win/lose count 17.5/34.70000000000004 (-17.20000000000004)\n",
            "Epoch 009/020 | Loss 0.0121 | Win/lose count 19.0/26.600000000000023 (-7.600000000000023)\n",
            "Epoch 010/020 | Loss 0.0100 | Win/lose count 23.0/23.300000000000015 (-0.3000000000000149)\n",
            "Epoch 011/020 | Loss 0.0158 | Win/lose count 22.5/27.500000000000018 (-5.000000000000018)\n",
            "Epoch 012/020 | Loss 0.0144 | Win/lose count 25.5/23.10000000000001 (2.3999999999999915)\n",
            "Epoch 013/020 | Loss 0.0060 | Win/lose count 23.0/21.09999999999999 (1.9000000000000092)\n",
            "Epoch 014/020 | Loss 0.0115 | Win/lose count 20.0/29.299999999999994 (-9.299999999999994)\n",
            "Epoch 015/020 | Loss 0.0151 | Win/lose count 20.0/24.399999999999995 (-4.399999999999995)\n",
            "Epoch 016/020 | Loss 0.0072 | Win/lose count 16.0/28.20000000000003 (-12.200000000000031)\n",
            "Epoch 017/020 | Loss 0.0098 | Win/lose count 23.5/18.5 (5.0)\n",
            "Epoch 018/020 | Loss 0.0094 | Win/lose count 22.5/21.500000000000007 (0.9999999999999929)\n",
            "Epoch 019/020 | Loss 0.0073 | Win/lose count 22.5/20.499999999999986 (2.000000000000014)\n"
          ],
          "name": "stdout"
        },
        {
          "output_type": "execute_result",
          "data": {
            "text/html": [
              "<video alt=\"test\" controls>\n",
              "                <source src=\"data:video/mp4;base64,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\" type=\"video/mp4\" />\n",
              "             </video>"
            ],
            "text/plain": [
              "<IPython.core.display.HTML object>"
            ]
          },
          "metadata": {
            "tags": []
          },
          "execution_count": 19
        }
      ]
    },
    {
      "cell_type": "code",
      "metadata": {
        "id": "T_9Zfh01jV-C",
        "colab_type": "code",
        "colab": {
          "base_uri": "https://localhost:8080/",
          "height": 650
        },
        "outputId": "0499fa14-e71a-4c86-842d-493a07277b47"
      },
      "source": [
        "# Evaluation\n",
        "test(agent, env, epochs_test, prefix='cnn_test_explore')\n",
        "HTML(display_videos('cnn_test_explore10.mp4'))"
      ],
      "execution_count": 20,
      "outputs": [
        {
          "output_type": "stream",
          "text": [
            "Win/lose count 19.0/10.0. Average score (9.0)\n",
            "Win/lose count 21.5/10.0. Average score (10.25)\n",
            "Win/lose count 21.5/8.0. Average score (11.333333333333334)\n",
            "Win/lose count 27.0/8.0. Average score (13.25)\n",
            "Win/lose count 19.0/7.0. Average score (13.0)\n",
            "Win/lose count 19.5/12.0. Average score (12.083333333333334)\n",
            "Win/lose count 21.5/6.0. Average score (12.571428571428571)\n",
            "Win/lose count 26.0/7.0. Average score (13.375)\n",
            "Win/lose count 26.5/3.0. Average score (14.5)\n",
            "Win/lose count 14.0/10.0. Average score (13.45)\n",
            "Win/lose count 25.0/9.0. Average score (13.681818181818182)\n",
            "Win/lose count 18.5/4.0. Average score (13.75)\n",
            "Win/lose count 13.5/7.0. Average score (13.192307692307692)\n",
            "Win/lose count 21.0/6.0. Average score (13.321428571428571)\n",
            "Win/lose count 22.5/15.0. Average score (12.933333333333334)\n",
            "Win/lose count 23.0/6.0. Average score (13.1875)\n",
            "Win/lose count 24.0/8.0. Average score (13.352941176470589)\n",
            "Win/lose count 28.5/8.0. Average score (13.75)\n",
            "Win/lose count 27.0/6.0. Average score (14.131578947368421)\n",
            "Win/lose count 23.5/6.0. Average score (14.3)\n",
            "Final score: 14.3\n"
          ],
          "name": "stdout"
        },
        {
          "output_type": "execute_result",
          "data": {
            "text/html": [
              "<video alt=\"test\" controls>\n",
              "                <source src=\"data:video/mp4;base64,AAAAIGZ0eXBpc29tAAACAGlzb21pc28yYXZjMW1wNDEAAAAIZnJlZQAAGYBtZGF0AAACrQYF//+p3EXpvebZSLeWLNgg2SPu73gyNjQgLSBjb3JlIDE1MiByMjg1NCBlOWE1OTAzIC0gSC4yNjQvTVBFRy00IEFWQyBjb2RlYyAtIENvcHlsZWZ0IDIwMDMtMjAxNyAtIGh0dHA6Ly93d3cudmlkZW9sYW4ub3JnL3gyNjQuaHRtbCAtIG9wdGlvbnM6IGNhYmFjPTEgcmVmPTMgZGVibG9jaz0xOjA6MCBhbmFseXNlPTB4MToweDExMSBtZT1oZXggc3VibWU9NyBwc3k9MSBwc3lfcmQ9MS4wMDowLjAwIG1peGVkX3JlZj0xIG1lX3JhbmdlPTE2IGNocm9tYV9tZT0xIHRyZWxsaXM9MSA4eDhkY3Q9MCBjcW09MCBkZWFkem9uZT0yMSwxMSBmYXN0X3Bza2lwPTEgY2hyb21hX3FwX29mZnNldD00IHRocmVhZHM9MyBsb29rYWhlYWRfdGhyZWFkcz0xIHNsaWNlZF90aHJlYWRzPTAgbnI9MCBkZWNpbWF0ZT0xIGludGVybGFjZWQ9MCBibHVyYXlfY29tcGF0PTAgY29uc3RyYWluZWRfaW50cmE9MCBiZnJhbWVzPTMgYl9weXJhbWlkPTIgYl9hZGFwdD0xIGJfYmlhcz0wIGRpcmVjdD0xIHdlaWdodGI9MSBvcGVuX2dvcD0wIHdlaWdodHA9MiBrZXlpbnQ9MjUwIGtleWludF9taW49MjUgc2NlbmVjdXQ9NDAgaW50cmFfcmVmcmVzaD0wIHJjX2xvb2thaGVhZD00MCByYz1jcmYgbWJ0cmVlPTEgY3JmPTIzLjAgcWNvbXA9MC42MCBxcG1pbj0wIHFwbWF4PTY5IHFwc3RlcD00IGlwX3JhdGlvPTEuNDAgYXE9MToxLjAwAIAAAALaZYiEADP//vaG+BTYUyP+T7/8I/+5H7cfWfrixkIJvrVeQ9GAMl8a/5lGYaXpyc8t7R+vTNAEZz6HlLJIofgUkwDfMsjnE4otLiOF1PNASSyBFbSWOc0nHC5PM0iTszQqJfeJ45WadL7TzozLTyNCtXhbZDVlrVwYUZTedht16nJu4AoRimEGReTGf8BskqjEIGcXxdh2Nkg0dDHc1K0ExUu3z/6XowOSFvMu8A4GBcfYhzasqXb8/5Oac2KrO9WEWBBPpKhvws8JZbDxu83QT4YFbie4ZbMr78wQqyId7XABQKaB0RSksg2YAfp0MB1SHFQLyGomZXeR3+EhSfp5AwBV6cYDxJzPK5YeKbKBW3NZCVnC5rPMSwZ9pwPwOARX+ZR6n7toppoItsMKk9dHh6EnEzH6iE3MURUCgYR1iEU9iqr/mR9fkUFAppMAzDy3lyD08hY534SypUaJRo/vNf+UqD9DjKpeEmVfBxLK0EbPWINVxGVDghSLqLThEcfPY08vTFEmfoIwyjJJjr6S4i7kuDX0FS/JH1bIQeKSmCFX8LlI4XLdOW0Fpy0mMhsTOagkgHvSjix9ZwJgAO0Nv9PRZgdvZcbzwQiQfJGQBBQ8y+TzsQzGw5m4AHGOnbjmN07VuVxsOqB89DS9jRfzPkThy8Ni5SLwBOfprZz0XsRbJ+Oy+o05IoYvTnB+4GmM6iAEsw9dmSAqo2uCO9TM/T/ThcSjY/5tiQ55s9Q/5Q/a1HNvZhhCpk4kgJBt5JJBiLSMA6ICgFOnpRWgFpQVmpNNAccUerzA5ZjxkrkiFw2/R16gAm621qxIAAIie/hMFz92+5zqB9tmC083oexNgTJe/qEDuWB9XoZdnJegXk1goCO49SBa9TFkEziTNRS34KuK06uvjDJTAXFNI7hzgAnxyF+W1vsiYKlQyP6ZaEz1ZoBSKVPVf+s/jWBOBCAKwNtIgA4jSgBoQQAAABNBmiFsQ3/+p4QABUfjTpArMpy9AAAAHEGaQzwhkymEM//+nhAAHZ9cutjhs/Ob5q7l9CEAAAAQAZ5iakK/AAZJ24TcZ9eueAAAABhBmmRJ4Q8mUwIb//6nhAAHn9g9ezPgi/cAAAAdQZqGSeEPJlMFETw3//6nhAALVitmJ/q7e6n7YYkAAAAQAZ6lakK/AAlrzRMiaVocwQAAABxBmqhJ4Q8mUwU8M//+nhAARUQ5VuC87X199vaRAAAAEAGex2pCvwAOgzB5MD18EoAAAAAZQZrJSeEPJlMCG//+p4QAG5pE/1W+Y/E7oAAAABlBmupJ4Q8mUwIb//6nhAArHon+q3zH4k3BAAAAHUGbDknhDyZTAhv//qeEACtfH6OX8bDCWyDLavrgAAAAEEGfLEURPC//ABnA8+lbY+AAAAAPAZ9LdEK/ACKurRkh5N6DAAAADwGfTWpCvwAhrzRNSU5ugQAAABlBm09JqEFomUwIb//+p4QAKfitIIRP8twrAAAAGUGbcknhClJlMCG//qeEAD9nGf6rfMfiM+AAAAAPQZ+QRTRMK/8ANMS1mo0gAAAADwGfsWpCvwA01iB5MEYbgQAAAB5Bm7RJqEFomUwU8N/+p4QAZt1apj/Uk+csyOfga6wAAAAQAZ/TakK/AFQseW4bNqbqgAAAAB1Bm9ZJ4QpSZTBSw3/+p4QA8ZxyHqR0ciz4P5zswQAAABABn/VqQr8AyLtRyv7cPo3AAAAAGEGb90nhDomUwIb//qeEAPL7B69mfBFdFwAAABlBmhhJ4Q8mUwId//6plgB3/hRlVmbZgDmhAAAAHEGaPEnhDyZTAhv//qeEAOf7B/nlKlbn3m1gOfAAAAAQQZ5aRRE8L/8AitAcuzJFUwAAABABnnl0Qr8AvqdSeV+SmzDwAAAADwGee2pCvwB7FDdhnqz1QQAAABpBmn5JqEFomUwU8O/+qZYAdJqgR/fV92jpgQAAABABnp1qQr8Aw4LGveaVm1TAAAAAGEGagknhClJlMCG//qeEAOf7B/nlFB3kbAAAABBBnqBFNEwv/wCK5+5wsoIJAAAADwGe33RCvwDDvJvPOLTPgAAAABABnsFqQr8Avrchh9ASDiqZAAAAHEGaxkmoQWiZTAhn//6eEAJd8Q/xiu5G7NhVN6AAAAAQQZ7kRREsL/8AXSgRWlFDdQAAAA8BnwN0Qr8AfEvQGSXKu4EAAAAQAZ8FakK/AH8Vwa48VbSL4QAAABtBmwdJqEFsmUwIZ//+nhABm19xoXgJX+tHpIEAAAAYQZsoSeEKUmUwIb/+p4QAa91aOa/xXK9BAAAAGUGbSUnhDomUwIb//qeEAG5dWkEIn+W234AAAAAeQZtsSeEPJlMCG//+p4QAq/on+rt7wwE1/U2+cLixAAAAEkGfikURPCv/AIrtELsN9LzbuAAAAA8Bn6tqQr8Aiu0QnBA4uOAAAAAaQZutSahBaJlMCHf//qmWAIQiw3RiEc+v5OEAAAAcQZvQSeEKUmUwId/+qZYAiCLJrwkY2Y0AlUzYsQAAABFBn+5FNEwr/wDcs3NcZYPtTQAAAA4Bng9qQr8A3JIZk3JKmgAAABdBmhRJqEFomUwIb//+p4QBsu6n68DZgAAAABNBnjJFESwv/wDs/YHLLjZhhZtBAAAAEAGeUXRCvwFI6Ac7Y40z6mAAAAAQAZ5TakK/AT9uQw+gJBxMqAAAABpBmlZJqEFsmUwUTDv//qmWANIJ0X++r7kTjwAAABABnnVqQr8BSFGiZE0rNmVAAAAAG0GaeknhClJlMCG//qeEBQhWqY/1CK9g/TKqYQAAABBBnphFNEwv/wF6/gK6xFbBAAAADwGet3RCvwH55qgdOmDJFwAAAA8BnrlqQr8B+hoHkwPg+4EAAAAZQZq9SahBaJlMCG///qeEBYxWkEQx+XHR3QAAABFBnttFESwr/wILYVgkJWfZiwAAAA4BnvxqQr8CC2Jit/dIeQAAABlBmv5JqEFsmUwIb//+p4QGJvf56YX0RMMWAAAAIUGbAEnhClJlMFFSw3/+p4QG4+57I6qBCf3bAAWIdhA9IAAAABABnz9qQr8CMs3NceDNmVNBAAAAHkGbIknhDomUwUTDf/6nhAHx6J/g1XgeDc+82ntXEAAAABABn0FqQr8BY25DD6AkHEtpAAAAJkGbRknhDyZTAhn//p4QBJfi3bcyytU0/MsO6PzLJg7Tue7qbrPgAAAAEEGfZEURPC//ALXQbPPFYuEAAAAPAZ+DdEK/AO02Brr4tKmBAAAAEAGfhWpCvwDysweS5nySlYEAAAAYQZuHSahBaJlMCG///qeEATQfMcrhttlDAAAAG0GbqEnhClJlMCG//qeEATwfMeRlECd/0IyDgAAAACJBm8xJ4Q6JlMCGf/6eECfErHADFq8yyz59tifQ1RKilK2AAAAAFEGf6kURPC//AeqbIVvdpwHk0Vj5AAAAEAGeCXRCvwGJk0InxZijUHAAAAAQAZ4LakK/Ao/miZEr5OS2gAAAABxBmg5JqEFomUwU8M/+nhAj2/v4G+tpodsFQ70hAAAADwGeLWpCvwJ1a8wHTYDlqQAAABhBmi9J4QpSZTAhn/6eEASX4h/bIY+sIXcAAAAYQZpQSeEOiZTAhn/+nhAC++6b6KlZr34+AAAAGEGacUnhDyZTAhv//qeEAHy9g9ezPgivDwAAACBBmpNJ4Q8mUwURPDP//p4QAdz39/QrPAUzA91xH1m3HwAAAA8BnrJqQr8AZIlpUigSqg4AAAAZQZq0SeEPJlMCG//+p4QATb6OfcyKEhxWwAAAABlBmtVJ4Q8mUwIb//6nhAAyfsH+E4LdCXHBAAAAH0Ga+UnhDyZTAhn//p4QAH7KdsFZBfk4fTC050IbwtoAAAARQZ8XRRE8L/8AE+Y8bndH+FcAAAAPAZ82dEK/ABsHk3nnFzuBAAAAEAGfOGpCvwAaYjtzrQwvXMAAAAAcQZs6SahBaJlMCGf//p4QAE/94ACa/vuMfWGtgQAAABhBm1tJ4QpSZTAhn/6eEAAzvr7+RIj6xA4AAAAYQZt8SeEOiZTAhn/+nhAAIN8Q/tkMfWKfAAAAGEGbnUnhDyZTAhv//qeEAAWP3U4/w+rcewAAABhBm75J4Q8mUwIb//6nhAAFa91OP8Pq3IMAAAAdQZvASeEPJlMFETw3//6nhAAMjSMh6rfMfhmy4PoAAAAQAZ//akK/AAo9jxyv7cREQQAAABxBm+JJ4Q8mUwU8N//+p4QADJ+wfz4KVuiwUAC4AAAAEAGeAWpCvwAKO1851TMcIEEAAAAaQZoGSeEPJlMCGf/+nhAAbmQ2t/lD+vvvA8AAAAAQQZ4kRRE8L/8AENoCDfI04QAAABABnkN0Qr8AF0zKeB0ynEmBAAAAEQGeRWpCvwAX6sohNred+FulAAAAGkGaR0moQWiZTAhv//6nhAAsPon+q3zH4kvBAAAAH0GaaUnhClJlMFESwz/+nhABDRDlW4LufcHZf382/mAAAAAQAZ6IakK/ADis8IeNDWOvgAAAABhBmopJ4Q6JlMCGf/6eEAEVEOP54L+SHX0AAAAYQZqrSeEPJlMCG//+p4QASUfMeRif5bdVAAAAGEGazUnhDyZTBRE8N//+p4QAS746fa62gAAAAA8BnuxqQr8APLzholc8u0kAAAAZQZruSeEPJlMCG//+p4QAcQ4z/Vb5j8Q6YQAAABlBmw9J4Q8mUwId//6plgA6Q6flNGP1pMXBAAAAHEGbM0nhDyZTAhv//qeEAHc99nvfHUDw4shTn20AAAATQZ9RRRE8L/8ASXHsGRy8LcueWAAAAA8Bn3B0Qr8AZKQ/G9QRrb0AAAAQAZ9yakK/AGSI7c60MLx5QAAAABlBm3ZJqEFomUwIZ//+nhABLviH9shj6wltAAAAEkGflEURLCv/AD4gvOdZPk3/gQAAAA4Bn7VqQr8APjX04G1JMwAAABpBm7dJqEFsmUwIb//+p4QAMn7B/hOC3QlxwQAAABlBm9hJ4QpSZTAhv/6nhAAf32D/CcFuhNlBAAAAH0Gb+knhDomUwU0TDv/+qZYACu++r3+brisxabjVtMAAAAAQAZ4ZakK/ABFc0bzTFW1owQAAAB1Bmh5J4Q8mUwIb//6nhAAN37B/nkFapkJBqXOOeAAAABBBnjxFETwv/wAILQHLsyWlAAAAEAGeW3RCvwALWnUnlfkpw/EAAAAQAZ5dakK/AAdu3Ac08I6ZvAAAAB5BmkJJqEFomUwIb//+p4QACaj7nsjE/l3gE1/VrjYAAAAQQZ5gRREsL/8ABdJ9eDXvgwAAAA8Bnp90Qr8AB2y9AZJdZYAAAAAQAZ6BakK/AAfFmDyXM+UhgQAAABlBmoNJqEFsmUwIb//+p4QACbfHTH+H1bgDAAAAGUGapknhClJlMCG//qeEAAl3x0+o40JD2UEAAAAPQZ7ERTRMK/8AB5gf837hAAAADwGe5WpCvwAE6so3WerRMwAAABxBmudJqEFomUwIb//+p4QABkXVpBCUQJ3/RxxBAAAAGUGbC0nhClJlMCGf/p4QAA+Xz4Sv6S33YjQAAAASQZ8pRTRML/8AA7cStv7iy0YsAAAADwGfSHRCvwAFHTlCk2yWiwAAABABn0pqQr8ABR7CPJgevqmAAAAAG0GbTEmoQWiZTAhn//6eEAAlpwjn8Oy2UfibQAAAABpBm21J4QpSZTAhn/6eEAA55Tjn8Oy2Ufh6YQAAABdBm45J4Q6JlMCGf/6eEAA56C10TzKW+QAAABtBm69J4Q8mUwIZ//6eEABYeDHP4c+IEJ/cQIEAAAAYQZvQSeEPJlMCG//+p4QAIqgCzbGKEtJAAAAAGUGb8UnhDyZTAhv//qeEADX0if6rfMfiPSAAAAAaQZoUSeEPJlMCG//+p4QAN37MH/et/c1xqscAAAARQZ4yRRE8K/8ALXSjeab3qTsAAAAPAZ5TakK/AC1tt0o0h4q1AAAAG0GaV0moQWiZTAhv//6nhAA1+Blt8x7r462R4QAAABFBnnVFESwr/wAsVjv+jkirLwAAAA4BnpZqQr8ALFY9c16svQAAABpBmphJqEFsmUwIb//+p4QAU/0T/Vb5j8RQQQAAABhBmrpJ4QpSZTBRUsO//qmWACl++r7nxcAAAAAPAZ7ZakK/AEKVI3WerPZPAAAAEUGa3knhDomUwIb//qeEAAEnAAAAFEGe/EUVPC//AEtj59Fiuwi197VNAAAAEAGfG3RCvwBprKu5DZUpD+EAAAAQAZ8dakK/AGcJkmm+kg4zcAAAABxBmwFJqEFomUwIb//+p4QAfs4z/Vb6qBw/xDPgAAAAEkGfP0URLCv/AGmdqBCRj9vmQQAAAA4Bn0BqQr8AaZ2q6fqXMgAAABhBm0JJqEFsmUwIb//+p4QAgo+Y5XDbbXkAAAAcQZtmSeEKUmUwIZ/+nhADI+vv6FdHRXW8PpJfMAAAABFBn4RFNEwv/wB5f2jGWrflSQAAAA8Bn6N0Qr8AqHQDoTkvAMEAAAAPAZ+lakK/AGwJaVIoEqnpAAAAGkGbp0moQWiZTAhv//6nhABUfdT9RxoSHFBBAAAAHkGbyUnhClJlMFESw3/+p4QANj7B/NpdzKzVNbnfFwAAABABn+hqQr8ALE1851oYXnVAAAAAHEGb60nhDomUwUTDf/6nhAAh3x0+5kYWzFCOY/kAAAAQAZ4KakK/ABuiO3OtDC9YQAAAABlBmgxJ4Q8mUwIb//6nhAAVr3U/UcaEh03AAAAAHUGaLknhDyZTBRE8N//+p4QAFiAGpBjmOefbeTqtAAAADwGeTWpCvwAR3Z5bhs2qkwAAABhBmlJJ4Q8mUwIZ//6eEABWvdN9pVpBcVEAAAAVQZ5wRRE8L/8ADTCON1TpciRzt924AAAAEAGej3RCvwASXcd5Wyh6yYAAAAAPAZ6RakK/AAvxF8zbMjdTAAAAGkGak0moQWiZTAhv//6nhAAN37B/hOC3QqdAAAAAHUGatUnhClJlMFESwz/+nhAAIt8Q/xRLznTYqCqQAAAADwGe1GpCvwAHQB/VIoEsRwAAABhBmtZJ4Q6JlMCGf/6eEAAWP4nfbIY+sbcAAAAYQZr3SeEPJlMCG//+p4QAA6PsHr2Z8EaXAAAAGEGbGUnhDyZTBRE8N//+p4QAA3fsH+aFgQAAAA8BnzhqQr8AAuFlG6z1aVEAAAAcQZs7SeEPJlMFPDf//qeEAAVjFbMT/V291P23GQAAABABn1pqQr8ABHXmiZE0rUnAAAAAHEGbXUnhDyZTBTw3//6nhAAH7B4muNUS/RP8kkkAAAAQAZ98akK/AAbAFjXvNK0jwQAAABlBm35J4Q8mUwIb//6nhAAMjSJ/qt8x+MHAAAAAGEGbgUnhDyZTAhn//p4QADIr7jQum+663AAAABJBn79FETwr/wAPi/A6KWksHOcAAAAPAZ/AakK/AA+IRM1NA6cwAAAAGUGbwkmoQWiZTAhv//6nhAANK6tHVQ23qoEAAAAZQZvjSeEKUmUwIb/+p4QADT+wf4Tgt0KsQAAAAB1BmgdJ4Q6JlMCGf/6eEAAh3zm+Ku896PTpGxTZBQAAABFBniVFETwv/wAFQY8h9vSOEQAAAA8BnkR0Qr8ABxWwNdfGUoEAAAAQAZ5GakK/AAbojtzrQwwRwQAAABtBmklLqEIQWiRGCCgH8gH9h4BTwr/+OEAAEXAAAAAlAZ5oakK/Aq9j7UHE3arDSSblqoYHLLW7zSogmiyg7yKExz1DgAAAC4Btb292AAAAbG12aGQAAAAAAAAAAAAAAAAAAAPoAAAfkAABAAABAAAAAAAAAAAAAAAAAQAAAAAAAAAAAAAAAAAAAAEAAAAAAAAAAAAAAAAAAEAAAAAAAAAAAAAAAAAAAAAAAAAAAAAAAAAAAAAAAAACAAAKqnRyYWsAAABcdGtoZAAAAAMAAAAAAAAAAAAAAAEAAAAAAAAfkAAAAAAAAAAAAAAAAAAAAAAAAQAAAAAAAAAAAAAAAAAAAAEAAAAAAAAAAAAAAAAAAEAAAAABEAAAARAAAAAAACRlZHRzAAAAHGVsc3QAAAAAAAAAAQAAH5AAAAQAAAEAAAAACiJtZGlhAAAAIG1kaGQAAAAAAAAAAAAAAAAAADIAAAGUAFXEAAAAAAAtaGRscgAAAAAAAAAAdmlkZQAAAAAAAAAAAAAAAFZpZGVvSGFuZGxlcgAAAAnNbWluZgAAABR2bWhkAAAAAQAAAAAAAAAAAAAAJGRpbmYAAAAcZHJlZgAAAAAAAAABAAAADHVybCAAAAABAAAJjXN0YmwAAACVc3RzZAAAAAAAAAABAAAAhWF2YzEAAAAAAAAAAQAAAAAAAAAAAAAAAAAAAAABEAEQAEgAAABIAAAAAAAAAAEAAAAAAAAAAAAAAAAAAAAAAAAAAAAAAAAAAAAAAAAAAAAY//8AAAAvYXZjQwH0AA3/4QAXZ/QADZGbKCIR0IAAAAMAgAAAGQeKFMsBAAVo6+PESAAAABhzdHRzAAAAAAAAAAEAAADKAAACAAAAABRzdHNzAAAAAAAAAAEAAAABAAAFWGN0dHMAAAAAAAAAqQAAAAIAAAQAAAAAAQAABgAAAAABAAACAAAAAAEAAAQAAAAAAQAABgAAAAABAAACAAAAAAEAAAYAAAAAAQAAAgAAAAACAAAEAAAAAAEAAAoAAAAAAQAABAAAAAABAAAAAAAAAAEAAAIAAAAAAQAABAAAAAABAAAIAAAAAAIAAAIAAAAAAQAABgAAAAABAAACAAAAAAEAAAYAAAAAAQAAAgAAAAACAAAEAAAAAAEAAAoAAAAAAQAABAAAAAABAAAAAAAAAAEAAAIAAAAAAQAABgAAAAABAAACAAAAAAEAAAoAAAAAAQAABAAAAAABAAAAAAAAAAEAAAIAAAAAAQAACgAAAAABAAAEAAAAAAEAAAAAAAAAAQAAAgAAAAADAAAEAAAAAAEAAAgAAAAAAgAAAgAAAAABAAAEAAAAAAEAAAgAAAAAAgAAAgAAAAABAAAKAAAAAAEAAAQAAAAAAQAAAAAAAAABAAACAAAAAAEAAAYAAAAAAQAAAgAAAAABAAAKAAAAAAEAAAQAAAAAAQAAAAAAAAABAAACAAAAAAEAAAgAAAAAAgAAAgAAAAABAAAEAAAAAAEAAAYAAAAAAQAAAgAAAAABAAAGAAAAAAEAAAIAAAAAAQAACgAAAAABAAAEAAAAAAEAAAAAAAAAAQAAAgAAAAACAAAEAAAAAAEAAAoAAAAAAQAABAAAAAABAAAAAAAAAAEAAAIAAAAAAQAABgAAAAABAAACAAAAAAMAAAQAAAAAAQAABgAAAAABAAACAAAAAAIAAAQAAAAAAQAACgAAAAABAAAEAAAAAAEAAAAAAAAAAQAAAgAAAAAFAAAEAAAAAAEAAAYAAAAAAQAAAgAAAAABAAAGAAAAAAEAAAIAAAAAAQAACgAAAAABAAAEAAAAAAEAAAAAAAAAAQAAAgAAAAABAAAEAAAAAAEAAAYAAAAAAQAAAgAAAAACAAAEAAAAAAEAAAYAAAAAAQAAAgAAAAACAAAEAAAAAAEAAAoAAAAAAQAABAAAAAABAAAAAAAAAAEAAAIAAAAAAQAACAAAAAACAAACAAAAAAIAAAQAAAAAAQAABgAAAAABAAACAAAAAAEAAAoAAAAAAQAABAAAAAABAAAAAAAAAAEAAAIAAAAAAQAACgAAAAABAAAEAAAAAAEAAAAAAAAAAQAAAgAAAAABAAAEAAAAAAEAAAgAAAAAAgAAAgAAAAABAAAEAAAAAAEAAAoAAAAAAQAABAAAAAABAAAAAAAAAAEAAAIAAAAABgAABAAAAAABAAAIAAAAAAIAAAIAAAAAAQAACAAAAAACAAACAAAAAAEAAAQAAAAAAQAABgAAAAABAAACAAAAAAEAAAoAAAAAAQAABAAAAAABAAAAAAAAAAEAAAIAAAAAAQAACAAAAAACAAACAAAAAAEAAAQAAAAAAQAACgAAAAABAAAEAAAAAAEAAAAAAAAAAQAAAgAAAAABAAAEAAAAAAEAAAYAAAAAAQAAAgAAAAABAAAGAAAAAAEAAAIAAAAAAQAABAAAAAABAAAGAAAAAAEAAAIAAAAAAQAACgAAAAABAAAEAAAAAAEAAAAAAAAAAQAAAgAAAAABAAAEAAAAAAEAAAYAAAAAAQAAAgAAAAACAAAEAAAAAAEAAAYAAAAAAQAAAgAAAAABAAAGAAAAAAEAAAIAAAAAAQAABgAAAAABAAACAAAAAAEAAAQAAAAAAQAACAAAAAACAAACAAAAAAIAAAQAAAAAAQAACgAAAAABAAAEAAAAAAEAAAAAAAAAAQAAAgAAAAABAAAGAAAAAAEAAAIAAAAAHHN0c2MAAAAAAAAAAQAAAAEAAADKAAAAAQAAAzxzdHN6AAAAAAAAAAAAAADKAAAFjwAAABcAAAAgAAAAFAAAABwAAAAhAAAAFAAAACAAAAAUAAAAHQAAAB0AAAAhAAAAFAAAABMAAAATAAAAHQAAAB0AAAATAAAAEwAAACIAAAAUAAAAIQAAABQAAAAcAAAAHQAAACAAAAAUAAAAFAAAABMAAAAeAAAAFAAAABwAAAAUAAAAEwAAABQAAAAgAAAAFAAAABMAAAAUAAAAHwAAABwAAAAdAAAAIgAAABYAAAATAAAAHgAAACAAAAAVAAAAEgAAABsAAAAXAAAAFAAAABQAAAAeAAAAFAAAAB8AAAAUAAAAEwAAABMAAAAdAAAAFQAAABIAAAAdAAAAJQAAABQAAAAiAAAAFAAAACoAAAAUAAAAEwAAABQAAAAcAAAAHwAAACYAAAAYAAAAFAAAABQAAAAgAAAAEwAAABwAAAAcAAAAHAAAACQAAAATAAAAHQAAAB0AAAAjAAAAFQAAABMAAAAUAAAAIAAAABwAAAAcAAAAHAAAABwAAAAhAAAAFAAAACAAAAAUAAAAHgAAABQAAAAUAAAAFQAAAB4AAAAjAAAAFAAAABwAAAAcAAAAHAAAABMAAAAdAAAAHQAAACAAAAAXAAAAEwAAABQAAAAdAAAAFgAAABIAAAAeAAAAHQAAACMAAAAUAAAAIQAAABQAAAAUAAAAFAAAACIAAAAUAAAAEwAAABQAAAAdAAAAHQAAABMAAAATAAAAIAAAAB0AAAAWAAAAEwAAABQAAAAfAAAAHgAAABsAAAAfAAAAHAAAAB0AAAAeAAAAFQAAABMAAAAfAAAAFQAAABIAAAAeAAAAHAAAABMAAAAVAAAAGAAAABQAAAAUAAAAIAAAABYAAAASAAAAHAAAACAAAAAVAAAAEwAAABMAAAAeAAAAIgAAABQAAAAgAAAAFAAAAB0AAAAhAAAAEwAAABwAAAAZAAAAFAAAABMAAAAeAAAAIQAAABMAAAAcAAAAHAAAABwAAAATAAAAIAAAABQAAAAgAAAAFAAAAB0AAAAcAAAAFgAAABMAAAAdAAAAHQAAACEAAAAVAAAAEwAAABQAAAAfAAAAKQAAABRzdGNvAAAAAAAAAAEAAAAwAAAAYnVkdGEAAABabWV0YQAAAAAAAAAhaGRscgAAAAAAAAAAbWRpcmFwcGwAAAAAAAAAAAAAAAAtaWxzdAAAACWpdG9vAAAAHWRhdGEAAAABAAAAAExhdmY1Ny44My4xMDA=\" type=\"video/mp4\" />\n",
              "             </video>"
            ],
            "text/plain": [
              "<IPython.core.display.HTML object>"
            ]
          },
          "metadata": {
            "tags": []
          },
          "execution_count": 20
        }
      ]
    },
    {
      "cell_type": "markdown",
      "metadata": {
        "id": "3nCckpojjV-F",
        "colab_type": "text"
      },
      "source": [
        "***\n",
        "***\n",
        "__BONUS question__ Use the expert DQN from the previous question to generate some winning games. Train a model that mimicks its behavior. Compare the performances."
      ]
    },
    {
      "cell_type": "code",
      "metadata": {
        "id": "BOfAKZdnjaYO",
        "colab_type": "code",
        "colab": {}
      },
      "source": [
        "# Agent definition\n",
        "class MimickAgent(Agent):\n",
        "    def __init__(self, expert_model, grid_size, epsilon = 0.1, memory_size=100, batch_size = 16,n_state=2):\n",
        "        super(MimickAgent, self).__init__(epsilon = epsilon)\n",
        "\n",
        "        # Expert model\n",
        "        self.expert_model = expert_model\n",
        "\n",
        "        # Set the exploration rate to 0\n",
        "        self.set_epsilon(0)\n",
        "\n",
        "        # Discount for Q learning\n",
        "        self.discount = 0.99\n",
        "        \n",
        "        self.grid_size = grid_size\n",
        "        \n",
        "        # number of state\n",
        "        self.n_state = n_state\n",
        "\n",
        "        # Memory\n",
        "        self.memory = Memory(memory_size)\n",
        "        \n",
        "        # Batch size when learning\n",
        "        self.batch_size = batch_size\n",
        "\n",
        "    def learned_act(self, s): # Trajectories according to the expert model\n",
        "        return self.expert_model.predict(s[None]).argmax()\n",
        "\n",
        "    def reinforce(self, s_, n_s_, a_, r_, game_over_):\n",
        "        # Two steps: first memorize the states, second learn from the pool\n",
        "\n",
        "        self.memory.remember([s_, n_s_, a_, r_, game_over_])\n",
        "        \n",
        "        input_states = np.zeros((self.batch_size, 5, 5, self.n_state))\n",
        "        target_q = np.zeros((self.batch_size, 4))\n",
        "        \n",
        "        for i in range(self.batch_size):\n",
        "            s, n_s, a, r, game_over = self.memory.random_access()\n",
        "\n",
        "            # What would the expert model do?\n",
        "            input_states[i] = s\n",
        "            target_q[i] = self.model.predict(s[None])\n",
        "\n",
        "            if game_over:\n",
        "                pass\n",
        "            else:\n",
        "                target_q[i,a] = r + self.discount * self.model.predict(n_s[None]).max()\n",
        "        \n",
        "        # HINT: Clip the target to avoid exploiding gradients.. -- clipping is a bit tighter\n",
        "        target_q = np.clip(target_q, -3, 3)\n",
        "\n",
        "        l = self.model.train_on_batch(input_states, target_q)\n",
        "\n",
        "        return l\n",
        "    \n",
        "    def save(self, name_weights='model.h5', name_model='model.json'):\n",
        "        self.model.save_weights(name_weights, overwrite=True)\n",
        "\n",
        "        with open(name_model, \"w\") as outfile:\n",
        "            json.dump(self.model.to_json(), outfile)\n",
        "            \n",
        "    def load(self, name_weights='model.h5', name_model='model.json'):\n",
        "        with open(name_model, \"r\") as jfile:\n",
        "            model = model_from_json(json.load(jfile))\n",
        "        \n",
        "        model.load_weights(name_weights)\n",
        "        model.compile(\"sgd\", \"mse\")\n",
        "        self.model = model\n",
        "\n",
        "class MimickAgent_CNN(MimickAgent):\n",
        "    def __init__(self, *args,lr=0.1,**kwargs):\n",
        "        super(MimickAgent_CNN, self).__init__(*args, **kwargs)\n",
        "        \n",
        "        model = Sequential()\n",
        "        model.add(Conv2D(5, 3, padding=\"same\", activation=\"relu\"))\n",
        "        model.add(Conv2D(5, 3, padding=\"same\", activation=\"relu\"))\n",
        "        model.add(Flatten())\n",
        "        model.add(Dense(4))\n",
        "        \n",
        "        #model.compile(sgd(lr=lr, decay=1e-4, momentum=0.0), \"mse\")\n",
        "        model.compile(keras.optimizers.Adam(lr=1e-2), \"mse\")\n",
        "        self.model = model"
      ],
      "execution_count": 0,
      "outputs": []
    },
    {
      "cell_type": "code",
      "metadata": {
        "id": "y6VGm94gmmNt",
        "colab_type": "code",
        "colab": {
          "base_uri": "https://localhost:8080/",
          "height": 633
        },
        "outputId": "18be829f-3546-42ce-a066-43ab2a8219bf"
      },
      "source": [
        "# Training\n",
        "env_mimick = EnvironmentExploring(grid_size=size, max_time=T, temperature=0.3)\n",
        "agent_mimick = MimickAgent_CNN(agent.model, size, lr=.1, epsilon = 0.1, memory_size=2000, batch_size = 32,n_state=3)\n",
        "train_explore(agent_mimick, env_mimick, epochs_train, prefix='cnn_train_mimick')\n",
        "HTML(display_videos('cnn_train_mimick10.mp4'))"
      ],
      "execution_count": 22,
      "outputs": [
        {
          "output_type": "stream",
          "text": [
            "Epoch 000/020 | Loss 0.0124 | Win/lose count 20.0/33.70000000000003 (-13.700000000000031)\n",
            "Epoch 001/020 | Loss 0.0058 | Win/lose count 28.5/21.399999999999995 (7.100000000000005)\n",
            "Epoch 002/020 | Loss 0.0092 | Win/lose count 22.5/17.999999999999996 (4.5000000000000036)\n",
            "Epoch 003/020 | Loss 0.0036 | Win/lose count 22.5/25.700000000000014 (-3.2000000000000135)\n",
            "Epoch 004/020 | Loss 0.0036 | Win/lose count 25.5/18.799999999999986 (6.7000000000000135)\n",
            "Epoch 005/020 | Loss 0.0053 | Win/lose count 26.5/17.199999999999985 (9.300000000000015)\n",
            "Epoch 006/020 | Loss 0.0089 | Win/lose count 19.0/19.899999999999995 (-0.899999999999995)\n",
            "Epoch 007/020 | Loss 0.0039 | Win/lose count 26.0/19.40000000000001 (6.599999999999991)\n",
            "Epoch 008/020 | Loss 0.0050 | Win/lose count 21.5/30.000000000000004 (-8.500000000000004)\n",
            "Epoch 009/020 | Loss 0.0110 | Win/lose count 23.5/18.399999999999995 (5.100000000000005)\n",
            "Epoch 010/020 | Loss 0.0060 | Win/lose count 22.5/23.999999999999986 (-1.4999999999999858)\n",
            "Epoch 011/020 | Loss 0.0243 | Win/lose count 21.0/23.399999999999988 (-2.399999999999988)\n",
            "Epoch 012/020 | Loss 0.0052 | Win/lose count 23.0/21.600000000000005 (1.399999999999995)\n",
            "Epoch 013/020 | Loss 0.0058 | Win/lose count 22.5/25.699999999999996 (-3.1999999999999957)\n",
            "Epoch 014/020 | Loss 0.0097 | Win/lose count 22.5/25.200000000000014 (-2.7000000000000135)\n",
            "Epoch 015/020 | Loss 0.0058 | Win/lose count 21.5/19.499999999999993 (2.000000000000007)\n",
            "Epoch 016/020 | Loss 0.0097 | Win/lose count 24.0/22.80000000000001 (1.1999999999999886)\n",
            "Epoch 017/020 | Loss 0.0041 | Win/lose count 22.5/25.7 (-3.1999999999999993)\n",
            "Epoch 018/020 | Loss 0.0047 | Win/lose count 20.0/19.299999999999997 (0.7000000000000028)\n",
            "Epoch 019/020 | Loss 0.0060 | Win/lose count 19.5/22.899999999999995 (-3.399999999999995)\n"
          ],
          "name": "stdout"
        },
        {
          "output_type": "execute_result",
          "data": {
            "text/html": [
              "<video alt=\"test\" controls>\n",
              "                <source src=\"data:video/mp4;base64,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\" type=\"video/mp4\" />\n",
              "             </video>"
            ],
            "text/plain": [
              "<IPython.core.display.HTML object>"
            ]
          },
          "metadata": {
            "tags": []
          },
          "execution_count": 22
        }
      ]
    },
    {
      "cell_type": "code",
      "metadata": {
        "id": "CAh_r26vorOC",
        "colab_type": "code",
        "colab": {
          "base_uri": "https://localhost:8080/",
          "height": 650
        },
        "outputId": "efdf2a86-f460-4246-825b-fd7461a68862"
      },
      "source": [
        "# Evaluation\n",
        "test(agent, env, epochs_test, prefix='cnn_test_mimick')\n",
        "HTML(display_videos('cnn_test_mimick10.mp4'))"
      ],
      "execution_count": 23,
      "outputs": [
        {
          "output_type": "stream",
          "text": [
            "Win/lose count 21.0/6.0. Average score (15.0)\n",
            "Win/lose count 22.5/5.0. Average score (16.25)\n",
            "Win/lose count 21.0/9.0. Average score (14.833333333333334)\n",
            "Win/lose count 21.0/8.0. Average score (14.375)\n",
            "Win/lose count 19.0/4.0. Average score (14.5)\n",
            "Win/lose count 20.5/5.0. Average score (14.666666666666666)\n",
            "Win/lose count 26.5/8.0. Average score (15.214285714285714)\n",
            "Win/lose count 19.5/5.0. Average score (15.125)\n",
            "Win/lose count 26.5/5.0. Average score (15.833333333333334)\n",
            "Win/lose count 16.0/6.0. Average score (15.25)\n",
            "Win/lose count 22.0/2.0. Average score (15.681818181818182)\n",
            "Win/lose count 20.0/4.0. Average score (15.708333333333334)\n",
            "Win/lose count 29.0/4.0. Average score (16.423076923076923)\n",
            "Win/lose count 25.5/7.0. Average score (16.571428571428573)\n",
            "Win/lose count 22.0/9.0. Average score (16.333333333333332)\n",
            "Win/lose count 23.5/4.0. Average score (16.53125)\n",
            "Win/lose count 20.0/6.0. Average score (16.38235294117647)\n",
            "Win/lose count 16.0/5.0. Average score (16.083333333333332)\n",
            "Win/lose count 21.5/6.0. Average score (16.05263157894737)\n",
            "Win/lose count 22.0/8.0. Average score (15.95)\n",
            "Final score: 15.95\n"
          ],
          "name": "stdout"
        },
        {
          "output_type": "execute_result",
          "data": {
            "text/html": [
              "<video alt=\"test\" controls>\n",
              "                <source src=\"data:video/mp4;base64,AAAAIGZ0eXBpc29tAAACAGlzb21pc28yYXZjMW1wNDEAAAAIZnJlZQAAGPttZGF0AAACrQYF//+p3EXpvebZSLeWLNgg2SPu73gyNjQgLSBjb3JlIDE1MiByMjg1NCBlOWE1OTAzIC0gSC4yNjQvTVBFRy00IEFWQyBjb2RlYyAtIENvcHlsZWZ0IDIwMDMtMjAxNyAtIGh0dHA6Ly93d3cudmlkZW9sYW4ub3JnL3gyNjQuaHRtbCAtIG9wdGlvbnM6IGNhYmFjPTEgcmVmPTMgZGVibG9jaz0xOjA6MCBhbmFseXNlPTB4MToweDExMSBtZT1oZXggc3VibWU9NyBwc3k9MSBwc3lfcmQ9MS4wMDowLjAwIG1peGVkX3JlZj0xIG1lX3JhbmdlPTE2IGNocm9tYV9tZT0xIHRyZWxsaXM9MSA4eDhkY3Q9MCBjcW09MCBkZWFkem9uZT0yMSwxMSBmYXN0X3Bza2lwPTEgY2hyb21hX3FwX29mZnNldD00IHRocmVhZHM9MyBsb29rYWhlYWRfdGhyZWFkcz0xIHNsaWNlZF90aHJlYWRzPTAgbnI9MCBkZWNpbWF0ZT0xIGludGVybGFjZWQ9MCBibHVyYXlfY29tcGF0PTAgY29uc3RyYWluZWRfaW50cmE9MCBiZnJhbWVzPTMgYl9weXJhbWlkPTIgYl9hZGFwdD0xIGJfYmlhcz0wIGRpcmVjdD0xIHdlaWdodGI9MSBvcGVuX2dvcD0wIHdlaWdodHA9MiBrZXlpbnQ9MjUwIGtleWludF9taW49MjUgc2NlbmVjdXQ9NDAgaW50cmFfcmVmcmVzaD0wIHJjX2xvb2thaGVhZD00MCByYz1jcmYgbWJ0cmVlPTEgY3JmPTIzLjAgcWNvbXA9MC42MCBxcG1pbj0wIHFwbWF4PTY5IHFwc3RlcD00IGlwX3JhdGlvPTEuNDAgYXE9MToxLjAwAIAAAALnZYiEADf//vaH+BTZWBP+Wb/9DX/cj9uPrP1xYyEE31qvIejAGS+1H+b/rFFs6Z6UB/fgCJQAc24ZwpIoZ/8CmWxwvgUK/HEacX14Wn+DO2SLIzvUB7PoXnbMYh2lZg1SfoNDe1bHZq9s1Z6ETEKHMYSTmM8oaeSq9IxM9QRXUEOmUxAurHdgciNg849f7POelLlzeuTG0oIH6zKrCiJudgfX1US42ASXE/Wjjqqo0ewPgLBBFcDTo3XmM3qLc9HJE3fxujcx9U7SoNRA5mjTC7dQuRME4uLZ2LCFhQ+N2cT6EjqLk3+WJH8XHzWWTA/mtjttCvuf/6peCP7IsNn7/BKzg5iL82IP8+9rA2Qi77vDB4q1df95YLnNMijem/nvVi4O8keEI+kLKpWOIGB1yQkuxqStDwRPhrHIoyOdYfT9SSYBYR6ZxBkSQBwffpIOOwQf84s0HY4NAsEaIFkhsRnalm+4xtGZKwcJobirj/ENG+Zfx0ES7ZyJII+NJBf0qrkGv7TFW+LnMn/RY37l8gArxvCDbfb0yZIlPTXNZSIb/MeP24TVTYtfHelMJABtaR9Vq2VeLqxasj3AAAtaEUNVhXn6yG1R+S3poI1IWrH2/MzKJZoRO3WPwgIXZKqjtSBJyI+EaE5AVFiSzDdS0wwzlpVMdlqOezHyDfM16gOoAcMM/NJgMnPl0UE/QSgd7/7DRr6QM9BdVOHLKZ+NniPCw7AaHycWfP/j+0e4Wz8E6ZMPQZRHpQUo6kC0/u57jz1/5fvlfKBjpAMlaySvLHiUVsiyWypw65zNiB1KxA2hTAWUYxFAWRIDFB1jWVH0AJwhaEB2tJVakAe/TaEDdAAFu4+Gdu4oyFCwsBo2KLwySw2mI4fr8Lr3fc45hHraHBHvAReqr+k8oB39JBs1KkvecPws6twH3PMPLxWjybQQj/2sOHxHmXUymGfiRMV9wmF9CrrIFh9gldh7A1O4gTwPg9gAd8EAAAATQZohbEN//qeEADT+wex/PgiwkgAAAB1BmkU8IZMphDP//p4QAMn6+/VCOn3/Z3XEfWZC2QAAABBBnmNqU8L/AB5ftCrmluPAAAAAEAGegnRCvwAqCa0ZJb/XOkEAAAAPAZ6EakK/ABsAWNgcp1eBAAAAGUGahkmoQWiZTAhn//6eEAB8vX38iRH1hbMAAAAYQZqnSeEKUmUwIZ/+nhAAUj3TfRUrNfInAAAAGEGayEnhDomUwIZ//p4QADT+vv5EiPrD/gAAABhBmulJ4Q8mUwIb//6nhAAIt8dMf4fVuCcAAAAZQZsKSeEPJlMCG//+p4QACHfHT6jjQkPiwQAAABtBmy5J4Q8mUwIb//6nhAAIqtpcze6nxWUtz8AAAAARQZ9MRRE8L/8ABUKBBShRECgAAAAPAZ9rdEK/AAR20YuA/PXBAAAAEAGfbWpCvwAHFZg8mB6+ZoEAAAAZQZtvSahBaJlMCG///qeEAA19In+pSAWRwQAAAClBm5JJ4QpSZTAhv/6nhAAOj8CVzmWVz3j8ClS2fgUzsDntdfJGcrD3gAAAABJBn7BFNEwr/wAL870G8Nlm4qQAAAAQAZ/RakK/AAvzqnkuZ8nigQAAABlBm9VJqEFomUwIZ//+nhAAON6+/kSI+sPdAAAAD0Gf80URLCv/AAvxLWbXwAAAAA8BnhRqQr8AB4VDdhnq0IkAAAAaQZoWSahBbJlMCG///qeEAAl3x0+o40JD2UAAAAAZQZo3SeEKUmUwIb/+p4QABkXVpBCJ/lxVgQAAABVBmltJ4Q6JlMCGf/6eEAAPl83vsl8AAAAOQZ55RRE8L/8AAmtAL2AAAAAQAZ6YdEK/AAUOyjvwAfdLwQAAAA8BnppqQr8ABQ7KN1nq0SkAAAAaQZqcSahBaJlMCG///qeEAAmqALNttML56UEAAAAeQZq+SeEKUmUwURLDP/6eEAA6Pr7u06RsF6D6PL1JAAAAEAGe3WpCvwAMQCxr3mlaBMAAAAAbQZrASeEOiZTBRMM//p4QAIacLW/yh/X33epAAAAAEAGe/2pCvwAcVngXX9uIC8EAAAAYQZrhSeEPJlMCGf/+nhAA0shjn8Oc31p3AAAAGEGbAknhDyZTAhn//p4QAUbgxz+HOb6z3QAAABtBmyNJ4Q8mUwIZ//6eEAHwKcc/hz4gKZ+szcAAAAAZQZtESeEPJlMCG//+p4QAx9In+pHRpDTQQQAAAB1Bm2ZJ4Q8mUwURPDf//qeEAmHRkPUifZ8YnfVl3QAAABABn4VqQr8BiXajlf24fNBBAAAAHkGbiEnhDyZTBTwz//6eEAmGDa36QX7L+IHAriiygQAAABABn6dqQr8Bk2bmuPFW0bfgAAAAGUGbqUnhDyZTAhv//qeEAT346fTwaEhrVMAAAAAeQZvLSeEPJlMFETw3//6nhADN+wf5a6QatmKEig1bAAAADwGf6mpCvwCoNt0o0h4l1QAAABhBm+xJ4Q8mUwIb//6nhAB/fYPXsz4IrwcAAAAcQZoQSeEPJlMCGf/+nhAC+/E7Ot1xHP6HXe6G9QAAABBBni5FETwv/wB0E2QtRM+FAAAADwGeTXRCvwBnElEKYIuggQAAABABnk9qQr8AnyjRMiaVm2fAAAAAGUGaUUmoQWiZTAhn//6eEARw4Rz+HOb6yh4AAAAYQZpySeEKUmUwIZ/+nhAEd+IedboGSGVVAAAAGEGak0nhDomUwIZ//p4QB7BKxwn/9+7D5gAAABhBmrRJ4Q8mUwIZ//6eEAfHoLnW6Bg3iygAAAAYQZrVSeEPJlMCGf/+nhAHb6+7tObtnsalAAAAGEGa9knhDyZTAhn//p4QBxuvv4vFZr1zfgAAABhBmxdJ4Q8mUwIZ//6eEAQX4h51ugZIZcUAAAAYQZs4SeEPJlMCGf/+nhAD9+vu7Tm7i2tnAAAAGEGbWUnhDyZTAhn//p4QA+Hv7+RIj6whswAAABhBm3pJ4Q8mUwIZ//6eEAKP7pvoqVmvfqcAAAAeQZucSeEPJlMFETwz//6eEAGn9ffpte5jnOmxU2R4AAAAEAGfu2pCvwBYmvnOtDC8hUEAAAAYQZu9SeEPJlMCGf/+nhABBviH9shj6wmfAAAAGEGb3knhDyZTAhn//p4QAK17psZcmyrfJAAAABhBm/9J4Q8mUwIZ//6eEACo+6bGXJsq30wAAAAYQZoASeEPJlMCGf/+nhAApHum+ipWa+GnAAAAGEGaIUnhDyZTAhn//p4QAGn9fd2nN3FxHAAAABhBmkJJ4Q8mUwIZ//6eEABnfX38iRH1hg8AAAAYQZpjSeEPJlMCGf/+nhAAQb4h/bIY+sOfAAAAGEGahEnhDyZTAhn//p4QACte6b6KlZr6QwAAABlBmqVJ4Q8mUwIb//6nhAAHPB4U6zp918SBAAAAGEGax0nhDyZTBRE8N//+p4QAB3PfZ9tRwQAAAA8BnuZqQr8ABiGbmwSAMdEAAAAaQZroSeEPJlMCG//+p4QAC1eif6rfVQxP3oUAAAAaQZsMSeEPJlMCGf/+nhAAaWQ2t/lD+vvvB8AAAAAQQZ8qRRE8L/8AD+J0eih7jQAAAA8Bn0l0Qr8ADi2KxhCroUAAAAAQAZ9LakK/ABYrHjlf24ghQAAAABpBm01JqEFomUwIb//+p4QAKf6J/qt8x+JQQQAAABhBm25J4QpSZTAhv/6nhAAqPupx/h9W3CsAAAAYQZuRSeEOiZTAhn/+nhAA8pTjn8Oc31pBAAAAD0Gfr0URPCv/ADOEtZqOYAAAAA4Bn9BqQr8AMvqJ5NLgcwAAABxBm9JJqEFomUwIb//+p4QAYekT/Vb6qDH/iIeBAAAAGUGb80nhClJlMCG//qeEAGRdWjo+42YK9bAAAAAYQZoUSeEOiZTAh3/+qZYAThFhuinBBpz4AAAAG0GaOEnhDyZTAh3//qmWAMLFk14t3Mffuy5zHwAAABBBnlZFETwv/wDciKRbjKNgAAAAEAGedXRCvwEu9KeB0ym5aoEAAAAPAZ53akK/AS8NA8mCLNmBAAAAEkGafEmoQWiZTAhv//6nhAABJwAAAAxBnppFESwv/wAAsoEAAAAPAZ65dEK/AStUjiOy7Kk3AAAADwGeu2pCvwErVI3WerPSDwAAABlBmr9JqEFsmUwIb//+p4QBjcZjyMT/G3GrAAAAEUGe3UUVLCv/ATbYrBISt9nXAAAADgGe/mpCvwE22TFcCSdcAAAAGUGa4EmoQWyZTAhv//6nhAGditIIRP8bcaEAAAAcQZsESeEKUmUwIb/+p4QBsvGn5Jp1VxZetyYGzAAAABFBnyJFNEwv/wDs/eee3o8+OQAAAA8Bn0F0Qr8BSLR3nnFo9IAAAAAPAZ9DakK/AT9tulGkPEnrAAAAHEGbRkmoQWiZTBTw3/6nhADy+wf55BWqZCRbyFkAAAAQAZ9lakK/AMiTJNN9JBxUEQAAABhBm2lJ4QpSZTAhn/6eEAKLXuNC6b7rbW0AAAAPQZ+HRTRMK/8Ahsm4a3dAAAAADwGfqGpCvwCK5o3qsAKqYAAAABlBm6pJqEFomUwIZ//+nhACj+6b6KlZr36nAAAAGEGby0nhClJlMCGf/p4QAaf19/IkR9YR/gAAABlBm+xJ4Q6JlMCG//6nhABFvjp9RxoSHGBAAAAAGUGaDUnhDyZTAhv//qeEAC2e6n6jjQkOScEAAAAYQZowSeEPJlMCGf/+nhAAcb193ac3cXDTAAAAD0GeTkURPCv/ABfiNA22wQAAAA0Bnm9qQr8AF+sSLe22AAAAGkGacUmoQWiZTAhv//6nhAAcb2D/CcFuhOVAAAAAGEGakknhClJlMCG//qeEABLR8x5GJ/luzQAAAB1BmrVJ4Q6JlMCG//6nhAATb6XTz+6b+5pgtzw9gAAAABJBntNFETwr/wAPirg1x73q4IAAAAAPAZ70akK/AA+IP6pFAlapAAAAGkGa9kmoQWiZTAh3//6plgAGM9pfzukKYS0QAAAAF0GbGknhClJlMCG//qeEAAf32VhifzEPAAAADkGfOEU0TC//AATWgDRhAAAAEAGfV3RCvwAGmeTdHbfDfoAAAAAQAZ9ZakK/AAZfOTvZ4+5tgQAAAB5Bm15JqEFomUwIb//+p4QAE/9unmWWJkdxqXnmyjcAAAAVQZ98RREsL/8AC/Ku7ze/XIb7ZqLhAAAADwGfm3RCvwAKPmTuDZLzYQAAABABn51qQr8AD+M8IeNDWVmAAAAAGUGbn0moQWyZTAhv//6nhAAUbFaQQif5brMAAAAdQZuhSeEKUmUwUVLDf/6nhAAw9IyHqt8x+GbLfCsAAAAQAZ/AakK/ACfWPHK/tw/ywAAAABpBm8VJ4Q6JlMCG//6nhAAxPsH+cqQin+TDaQAAABBBn+NFFTwv/wAdBOnf5vsIAAAADwGeAnRCvwAn0YQGSXMTgQAAABABngRqQr8AJ81851oYXn9BAAAAHEGaB0moQWiZTBTw3/6nhAAef2D/OU68KNbmQXUAAAAPAZ4makK/ABkiWlSKBKwPAAAAGEGaKEnhClJlMCG//qeEABNvo5oK1mU2lwAAAB1BmkpJ4Q6JlMFNEw7//qmWAA446hZCTc09GP0ztgAAABABnmlqQr8AF0siE3GfXqK5AAAAG0GabknhDyZTAhv//qeEACsYrZif6u3up+1kGAAAABBBnoxFETwv/wAZwRxncq5gAAAAEAGeq3RCvwAjwgDnbHGmqCEAAAAPAZ6takK/ACLBrAuv8C3BAAAAHEGasEmoQWiZTBTw3/6nhAA/YPE1xqiX6J/kQ0kAAAAQAZ7PakK/ADYAsa95pWcLwAAAABtBmtNJ4QpSZTAhv/6nhABkaRP9VvqoEJ/dSCAAAAARQZ7xRTRMK/8AUex3/RyRVUkAAAAOAZ8SakK/AFHseua9VSQAAAAZQZsUSahBaJlMCHf//qmWAE4RYbopwQac+AAAABZBmzhJ4QpSZTAh3/6plgBMfjz+SL5hAAAADkGfVkU0TC//AFrZUDFgAAAAEAGfdXRCvwB7FDd07Lsqu4EAAAAPAZ93akK/AHsUN2GerPVBAAAAHEGbfEmoQWiZTAh3//6plgB0h1CyEm5p6MfpiqYAAAAQQZ+aRREsL/8AitAcvIoIIQAAABABn7l0Qr8Aw9lXchsqUgLgAAAADwGfu2pCvwDDgsbA5TapgQAAABNBm6BJqEFsmUwId//+qZYAAJWBAAAADEGf3kUVLC//AACygAAAABABn/10Qr8Aw7ybo7b4VO6AAAAADwGf/2pCvwDDgsaJXPLpnwAAABNBm+RJqEFsmUwId//+qZYAAJWAAAAADEGeAkUVLC//AACygQAAABABniF0Qr8Aw7ybo7b4VO6AAAAADwGeI2pCvwDDgsaJXPLpnwAAABxBmihJqEFsmUwId//+qZYAwqjogWaAOvjz5+uPAAAAEEGeRkUVLC//ANyI3e4A20EAAAAPAZ5ldEK/AS70ncGyXjIHAAAADwGeZ2pCvwEvDQPJgizZgAAAABxBmmxJqEFsmUwId//+qZYBy9ULISbXDox+dMrYAAAAEEGeikUVLC//AVFlioQT4OEAAAAQAZ6pdEK/AcaMyI7FmKNOOAAAAA4BnqtqQr8B0YXvVJTZFwAAABJBmrBJqEFsmUwIb//+p4QAAScAAAAMQZ7ORRUsL/8AALKBAAAADwGe7XRCvwHSJA0QXOpZFwAAAA8Bnu9qQr8B0YXunUbl0VsAAAAcQZr0SahBbJlMCGf//p4QDX85vuOicviKsUS0gAAAABBBnxJFFSwv/wFRoEVpRPg5AAAADwGfMXRCvwHSJA118WitgAAAABABnzNqQr8B0g8GuPFW0bBgAAAAGUGbNUmoQWyZTAhn//6eEAX8hx/PBfw+x80AAAAYQZtWSeEKUmUwIZ/+nhAGNqcfzwX8PsekAAAAF0Gbd0nhDomUwIZ//p4QBnV7jBHW9Yy5AAAAF0GbmEnhDyZTAhv//qeEAcEPCjj2LjHHAAAAGEGbuUnhDyZTAhv//qeEAdXe/zzB/lzp6wAAABtBm91J4Q8mUwIb//6nhAHb7B/kcXhxZCkuGpEAAAAQQZ/7RRE8L/8A+CdRvYIndAAAAA8Bnhp0Qr8BY7R3nnFo44EAAAAQAZ4cakK/AWOlG80xVtG+4QAAABlBmh5JqEFomUwIb//+p4QBHB8x5GJ/ltlfAAAAHUGaIEnhClJlMFESw3/+p4QCIYzNTZtnW91Phs2YAAAAEAGeX2pCvwF1seW4bNqY1YEAAAAcQZpESeEOiZTAhn/+nhAbiHOmwXYpvAAf38yhDwAAABBBnmJFFTwv/wGykG7Shor5AAAADwGegXRCvwJfYrGC/tBwQAAAABABnoNqQr8CSM9ulQ5IKw2ZAAAAGUGahUmoQWiZTAhn//6eEB6qcf0Cj8bOjKkAAAAeQZqoSeEKUmUwIX/+jLAk+7vySHJouwlnKCwZSNGzAAAAEkGexkU0TCv/AnYeDXHxKXshbQAAABABnudqQr8CkTRvNLrWTWzAAAAAGkGa6UuoQhBaJEYIKAfyAf2HgCFf/jhAABFwAAALGG1vb3YAAABsbXZoZAAAAAAAAAAAAAAAAAAAA+gAAB+QAAEAAAEAAAAAAAAAAAAAAAABAAAAAAAAAAAAAAAAAAAAAQAAAAAAAAAAAAAAAAAAQAAAAAAAAAAAAAAAAAAAAAAAAAAAAAAAAAAAAAAAAAIAAApCdHJhawAAAFx0a2hkAAAAAwAAAAAAAAAAAAAAAQAAAAAAAB+QAAAAAAAAAAAAAAAAAAAAAAABAAAAAAAAAAAAAAAAAAAAAQAAAAAAAAAAAAAAAAAAQAAAAAEQAAABEAAAAAAAJGVkdHMAAAAcZWxzdAAAAAAAAAABAAAfkAAABAAAAQAAAAAJum1kaWEAAAAgbWRoZAAAAAAAAAAAAAAAAAAAMgAAAZQAVcQAAAAAAC1oZGxyAAAAAAAAAAB2aWRlAAAAAAAAAAAAAAAAVmlkZW9IYW5kbGVyAAAACWVtaW5mAAAAFHZtaGQAAAABAAAAAAAAAAAAAAAkZGluZgAAABxkcmVmAAAAAAAAAAEAAAAMdXJsIAAAAAEAAAklc3RibAAAAJVzdHNkAAAAAAAAAAEAAACFYXZjMQAAAAAAAAABAAAAAAAAAAAAAAAAAAAAAAEQARAASAAAAEgAAAAAAAAAAQAAAAAAAAAAAAAAAAAAAAAAAAAAAAAAAAAAAAAAAAAAABj//wAAAC9hdmNDAfQADf/hABdn9AANkZsoIhHQgAAAAwCAAAAZB4oUywEABWjr48RIAAAAGHN0dHMAAAAAAAAAAQAAAMoAAAIAAAAAFHN0c3MAAAAAAAAAAQAAAAEAAATwY3R0cwAAAAAAAACcAAAAAgAABAAAAAABAAAKAAAAAAEAAAQAAAAAAQAAAAAAAAABAAACAAAAAAUAAAQAAAAAAQAACgAAAAABAAAEAAAAAAEAAAAAAAAAAQAAAgAAAAABAAAEAAAAAAEAAAgAAAAAAgAAAgAAAAABAAAIAAAAAAIAAAIAAAAAAgAABAAAAAABAAAKAAAAAAEAAAQAAAAAAQAAAAAAAAABAAACAAAAAAEAAAQAAAAAAQAABgAAAAABAAACAAAAAAEAAAYAAAAAAQAAAgAAAAAEAAAEAAAAAAEAAAYAAAAAAQAAAgAAAAABAAAGAAAAAAEAAAIAAAAAAQAABAAAAAABAAAGAAAAAAEAAAIAAAAAAQAABAAAAAABAAAKAAAAAAEAAAQAAAAAAQAAAAAAAAABAAACAAAAAAoAAAQAAAAAAQAABgAAAAABAAACAAAAAAkAAAQAAAAAAQAABgAAAAABAAACAAAAAAEAAAQAAAAAAQAACgAAAAABAAAEAAAAAAEAAAAAAAAAAQAAAgAAAAACAAAEAAAAAAEAAAgAAAAAAgAAAgAAAAADAAAEAAAAAAEAAAoAAAAAAQAABAAAAAABAAAAAAAAAAEAAAIAAAAAAQAACgAAAAABAAAEAAAAAAEAAAAAAAAAAQAAAgAAAAABAAAIAAAAAAIAAAIAAAAAAQAABAAAAAABAAAKAAAAAAEAAAQAAAAAAQAAAAAAAAABAAACAAAAAAEAAAYAAAAAAQAAAgAAAAABAAAIAAAAAAIAAAIAAAAABAAABAAAAAABAAAIAAAAAAIAAAIAAAAAAgAABAAAAAABAAAIAAAAAAIAAAIAAAAAAQAABAAAAAABAAAKAAAAAAEAAAQAAAAAAQAAAAAAAAABAAACAAAAAAEAAAoAAAAAAQAABAAAAAABAAAAAAAAAAEAAAIAAAAAAQAABAAAAAABAAAGAAAAAAEAAAIAAAAAAQAACgAAAAABAAAEAAAAAAEAAAAAAAAAAQAAAgAAAAABAAAGAAAAAAEAAAIAAAAAAQAABAAAAAABAAAGAAAAAAEAAAIAAAAAAQAACgAAAAABAAAEAAAAAAEAAAAAAAAAAQAAAgAAAAABAAAGAAAAAAEAAAIAAAAAAQAACAAAAAACAAACAAAAAAEAAAQAAAAAAQAACgAAAAABAAAEAAAAAAEAAAAAAAAAAQAAAgAAAAABAAAKAAAAAAEAAAQAAAAAAQAAAAAAAAABAAACAAAAAAEAAAoAAAAAAQAABAAAAAABAAAAAAAAAAEAAAIAAAAAAQAACgAAAAABAAAEAAAAAAEAAAAAAAAAAQAAAgAAAAABAAAKAAAAAAEAAAQAAAAAAQAAAAAAAAABAAACAAAAAAEAAAoAAAAAAQAABAAAAAABAAAAAAAAAAEAAAIAAAAAAQAACgAAAAABAAAEAAAAAAEAAAAAAAAAAQAAAgAAAAABAAAKAAAAAAEAAAQAAAAAAQAAAAAAAAABAAACAAAAAAUAAAQAAAAAAQAACgAAAAABAAAEAAAAAAEAAAAAAAAAAQAAAgAAAAABAAAEAAAAAAEAAAYAAAAAAQAAAgAAAAABAAAKAAAAAAEAAAQAAAAAAQAAAAAAAAABAAACAAAAAAEAAAQAAAAAAQAACAAAAAACAAACAAAAAAEAAAQAAAAAHHN0c2MAAAAAAAAAAQAAAAEAAADKAAAAAQAAAzxzdHN6AAAAAAAAAAAAAADKAAAFnAAAABcAAAAhAAAAFAAAABQAAAATAAAAHQAAABwAAAAcAAAAHAAAAB0AAAAfAAAAFQAAABMAAAAUAAAAHQAAAC0AAAAWAAAAFAAAAB0AAAATAAAAEwAAAB4AAAAdAAAAGQAAABIAAAAUAAAAEwAAAB4AAAAiAAAAFAAAAB8AAAAUAAAAHAAAABwAAAAfAAAAHQAAACEAAAAUAAAAIgAAABQAAAAdAAAAIgAAABMAAAAcAAAAIAAAABQAAAATAAAAFAAAAB0AAAAcAAAAHAAAABwAAAAcAAAAHAAAABwAAAAcAAAAHAAAABwAAAAiAAAAFAAAABwAAAAcAAAAHAAAABwAAAAcAAAAHAAAABwAAAAcAAAAHQAAABwAAAATAAAAHgAAAB4AAAAUAAAAEwAAABQAAAAeAAAAHAAAABwAAAATAAAAEgAAACAAAAAdAAAAHAAAAB8AAAAUAAAAFAAAABMAAAAWAAAAEAAAABMAAAATAAAAHQAAABUAAAASAAAAHQAAACAAAAAVAAAAEwAAABMAAAAgAAAAFAAAABwAAAATAAAAEwAAAB0AAAAcAAAAHQAAAB0AAAAcAAAAEwAAABEAAAAeAAAAHAAAACEAAAAWAAAAEwAAAB4AAAAbAAAAEgAAABQAAAAUAAAAIgAAABkAAAATAAAAFAAAAB0AAAAhAAAAFAAAAB4AAAAUAAAAEwAAABQAAAAgAAAAEwAAABwAAAAhAAAAFAAAAB8AAAAUAAAAFAAAABMAAAAgAAAAFAAAAB8AAAAVAAAAEgAAAB0AAAAaAAAAEgAAABQAAAATAAAAIAAAABQAAAAUAAAAEwAAABcAAAAQAAAAFAAAABMAAAAXAAAAEAAAABQAAAATAAAAIAAAABQAAAATAAAAEwAAACAAAAAUAAAAFAAAABIAAAAWAAAAEAAAABMAAAATAAAAIAAAABQAAAATAAAAFAAAAB0AAAAcAAAAGwAAABsAAAAcAAAAHwAAABQAAAATAAAAFAAAAB0AAAAhAAAAFAAAACAAAAAUAAAAEwAAABQAAAAdAAAAIgAAABYAAAAUAAAAHgAAABRzdGNvAAAAAAAAAAEAAAAwAAAAYnVkdGEAAABabWV0YQAAAAAAAAAhaGRscgAAAAAAAAAAbWRpcmFwcGwAAAAAAAAAAAAAAAAtaWxzdAAAACWpdG9vAAAAHWRhdGEAAAABAAAAAExhdmY1Ny44My4xMDA=\" type=\"video/mp4\" />\n",
              "             </video>"
            ],
            "text/plain": [
              "<IPython.core.display.HTML object>"
            ]
          },
          "metadata": {
            "tags": []
          },
          "execution_count": 23
        }
      ]
    },
    {
      "cell_type": "markdown",
      "metadata": {
        "id": "c9t_rs4AjV-F",
        "colab_type": "text"
      },
      "source": [
        "The model that mimick the behaviour of the expert model performs better than the expert model. It can be explained by the fact that it is trained only on the optimal transitions and its training is not \"altered\" by the random transitions that sometimes yield bad results."
      ]
    },
    {
      "cell_type": "markdown",
      "metadata": {
        "id": "llmWfI6gjV-G",
        "colab_type": "text"
      },
      "source": [
        "***"
      ]
    }
  ]
}